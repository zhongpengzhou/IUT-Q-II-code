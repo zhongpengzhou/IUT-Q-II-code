{
 "cells": [
  {
   "cell_type": "markdown",
   "metadata": {},
   "source": [
    "### Magma codes"
   ]
  },
  {
   "cell_type": "code",
   "execution_count": 61,
   "metadata": {},
   "outputs": [],
   "source": [
    "from math import sqrt\n",
    "from tqdm import tqdm, trange\n",
    "\n",
    "def is_prime(n):\n",
    "    if n < 2:\n",
    "        return False\n",
    "    for i in range(2,n):\n",
    "        if n%i == 0:\n",
    "            return False\n",
    "        if i * i > n:\n",
    "            break\n",
    "    return True\n",
    "\n",
    "def prime_divisors(n):\n",
    "    res = []\n",
    "    for i in range(1,n+1):\n",
    "        if n%i==0 and is_prime(i):\n",
    "            res.append(i)\n",
    "    return res"
   ]
  },
  {
   "cell_type": "markdown",
   "metadata": {},
   "source": []
  },
  {
   "cell_type": "code",
   "execution_count": 62,
   "metadata": {},
   "outputs": [],
   "source": [
    "def magma_print1(): \n",
    "    # when z1 = 1, i.e. |z| is not divided by p \\nmid 6\n",
    "    S = [2, 3]\n",
    "    infos = [sgn * pow(2,r2) * pow(3,r3) for sgn in [1,-1] for r2 in range(6) for r3 in range(6)]\n",
    "    print(\n",
    "f'''for info in {infos} do\n",
    "    for P in SIntegralPoints(EllipticCurve([0,info]), {S}) do\n",
    "        if ((info mod 2) ne 0 or (Denominator(P[1]) mod 2) eq 0) and ((info mod 3) ne 0 or (Denominator(P[1]) mod 3) eq 0) then\n",
    "            print(info);print(P);\n",
    "end if; end for; end for;\n",
    "print(\"End.\")''')\n",
    "    return"
   ]
  },
  {
   "cell_type": "code",
   "execution_count": 63,
   "metadata": {},
   "outputs": [],
   "source": [
    "# magma_print1()\n",
    "\n",
    "# output:\n",
    "# 1\n",
    "# (-1 : 0 : 1)\n",
    "# 1\n",
    "# (0 : -1 : 1)\n",
    "# 1\n",
    "# (2 : -3 : 1)\n",
    "# 2\n",
    "# (17/4 : 71/8 : 1)\n",
    "# 8\n",
    "# (-7/4 : -13/8 : 1)\n",
    "# -1\n",
    "# (1 : 0 : 1)\n",
    "# End."
   ]
  },
  {
   "cell_type": "code",
   "execution_count": 64,
   "metadata": {},
   "outputs": [],
   "source": [
    "def magma_print2(n):\n",
    "    # when r > 0, z1 = n, and z1 is not divided by p \\nmid 6n\n",
    "    S = prime_divisors(2*3*n)\n",
    "    infos = [sgn * pow(2,r2) * pow(3,r3) * pow(n,r) for sgn in [1,-1] for r2 in range(6) for r3 in range(6) for r in range(6) if r > 0]\n",
    "    print(\n",
    "f'''for info in {infos} do\n",
    "    for P in SIntegralPoints(EllipticCurve([0,info]), {S}) do\n",
    "        if IsDivisibleBy(Denominator(P[1]),{n}) then\n",
    "            if ((info mod 2) ne 0 or (Denominator(P[1]) mod 2) eq 0) and ((info mod 3) ne 0 or (Denominator(P[1]) mod 3) eq 0) then\n",
    "                print({n});print(info);print(P);\n",
    "end if; end if; end for; end for;\n",
    "print(\"End.\")''')\n",
    "    return"
   ]
  },
  {
   "cell_type": "code",
   "execution_count": 65,
   "metadata": {},
   "outputs": [],
   "source": [
    "# due to the limitation of the single calculation amount of the online magma calculator https://magma.maths.usyd.edu.au/calc/, we divide the cases into several groups\n",
    "def magma_print2_a1(n,sgn):\n",
    "    S = prime_divisors(2*3*n)\n",
    "    infos = [sgn * pow(2,r2) * pow(3,r3) * pow(n,r) for r2 in range(6) for r3 in range(6) for r in range(6) if r > 0]\n",
    "    print(\n",
    "f'''for info in {infos} do\n",
    "    for P in SIntegralPoints(EllipticCurve([0,info]), {S}) do\n",
    "        if IsDivisibleBy(Denominator(P[1]),{n}) then\n",
    "            if ((info mod 2) ne 0 or (Denominator(P[1]) mod 2) eq 0) and ((info mod 3) ne 0 or (Denominator(P[1]) mod 3) eq 0) then\n",
    "                print({n});print(info);print(P);\n",
    "end if; end if; end for; end for;\n",
    "print(\"End.\");''')\n",
    "    return\n",
    "\n",
    "def magma_print2_a2(n, sgn, r2):\n",
    "    S = prime_divisors(2*3*n)\n",
    "    infos = [sgn * pow(2,r2) * pow(3,r3) * pow(n,r) for r3 in range(6) for r in range(6) if r > 0]\n",
    "    print(\n",
    "f'''for info in {infos} do\n",
    "    for P in SIntegralPoints(EllipticCurve([0,info]), {S}) do\n",
    "        if IsDivisibleBy(Denominator(P[1]),{n}) then\n",
    "            if ((info mod 2) ne 0 or (Denominator(P[1]) mod 2) eq 0) and ((info mod 3) ne 0 or (Denominator(P[1]) mod 3) eq 0) then\n",
    "                print({n});print(info);print(P);\n",
    "end if; end if; end for; end for;\n",
    "print(\"End.\");''')\n",
    "    return"
   ]
  },
  {
   "cell_type": "code",
   "execution_count": 66,
   "metadata": {},
   "outputs": [],
   "source": [
    "# magma_print2(5)\n",
    "# output: End.\n",
    "\n",
    "# magma_print2(7)\n",
    "# output: End.\n",
    "\n",
    "# magma_print2_a1(11, 1)\n",
    "# output: End.\n",
    "\n",
    "# magma_print2_a1(11, -1)\n",
    "# output:\n",
    "# 11\n",
    "# -1089\n",
    "# (15613/1089 : -1549034/35937 : 1)\n",
    "# End.\n",
    "\n",
    "# magma_print2_a1(13, 1)\n",
    "# output: End.\n",
    "\n",
    "# magma_print2_a2(13, -1)\n",
    "# output: End."
   ]
  },
  {
   "cell_type": "code",
   "execution_count": 67,
   "metadata": {},
   "outputs": [],
   "source": [
    "# magma_print2_a1(17, 1)\n",
    "# output:\n",
    "# 17\n",
    "# 17\n",
    "# (76271/289 : -21063928/4913 : 1)\n",
    "# End.\n",
    "\n",
    "# magma_print2_a2(17, -1, 0)\n",
    "# magma_print2_a2(17, -1, 1)\n",
    "# magma_print2_a2(17, -1, 2)\n",
    "# magma_print2_a2(17, -1, 3)\n",
    "# magma_print2_a2(17, -1, 4)\n",
    "# magma_print2_a2(17, -1, 5)\n",
    "# outputs: End.\n",
    "\n",
    "\n"
   ]
  }
 ],
 "metadata": {
  "kernelspec": {
   "display_name": "base",
   "language": "python",
   "name": "python3"
  },
  "language_info": {
   "codemirror_mode": {
    "name": "ipython",
    "version": 3
   },
   "file_extension": ".py",
   "mimetype": "text/x-python",
   "name": "python",
   "nbconvert_exporter": "python",
   "pygments_lexer": "ipython3",
   "version": "3.8.8"
  }
 },
 "nbformat": 4,
 "nbformat_minor": 2
}
