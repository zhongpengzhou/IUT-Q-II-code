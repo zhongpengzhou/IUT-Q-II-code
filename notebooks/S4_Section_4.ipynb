{
 "cells": [
  {
   "cell_type": "code",
   "execution_count": 1,
   "metadata": {},
   "outputs": [],
   "source": [
    "import sys\n",
    "import os\n",
    "\n",
    "parent_dir = os.path.abspath(os.path.join(os.getcwd(), '..'))\n",
    "sys.path.append(parent_dir)\n",
    "\n",
    "from python_utils import *\n",
    "from tqdm.notebook import tqdm, trange"
   ]
  },
  {
   "cell_type": "markdown",
   "metadata": {},
   "source": [
    "### Case 1: $F = \\mathbb Q(E[12])$"
   ]
  },
  {
   "cell_type": "code",
   "execution_count": 2,
   "metadata": {},
   "outputs": [
    {
     "data": {
      "application/vnd.jupyter.widget-view+json": {
       "model_id": "5fd0d3e8fa694d5398ce1d8cd6de1ec3",
       "version_major": 2,
       "version_minor": 0
      },
      "text/plain": [
       "  0%|          | 0/62 [00:00<?, ?it/s]"
      ]
     },
     "metadata": {},
     "output_type": "display_data"
    },
    {
     "name": "stdout",
     "output_type": "stream",
     "text": [
      "5 133.92056029892038\n",
      "7 116.89711856627233\n",
      "11 126.66197956597263\n",
      "13 135.53407835194733\n",
      "17 157.00550521728516\n",
      "19 167.61314166656254\n",
      "23 190.32667244864382\n",
      "29 225.4548740511201\n"
     ]
    }
   ],
   "source": [
    "e0 = 12\n",
    "def get_ramification_dataset1(l):\n",
    "    ep_range = dict()\n",
    "    ep_range['general'] = {'good':[1], 'multi':divisors(12*l)}\n",
    "    ep_range[2] = {'good':[e for e in divisors(pow(2,8) * pow(3,2)) if e%2 == 0], 'multi':[e for e in divisors(24*l) if e%2 == 0]}\n",
    "    ep_range[3] = {'good':[e for e in divisors(pow(2,6) * pow(3,2)) if e%2 == 0], 'multi':[e for e in divisors(48*l) if e%2 == 0]}\n",
    "    ep_range[l] = {'good':[l-1,l*(l-1),l*l-1], 'multi':[(l-1)*e for e in divisors(12*l)]}\n",
    "    return ep_range\n",
    "\n",
    "# compute log-volume\n",
    "my_log_volumes1 = dict()\n",
    "for p in tqdm(primes(300)):\n",
    "    if p >= 5 and p <= 30:\n",
    "        my_log_volumes1[p] = compute_log_volume(get_ramification_dataset1, e0, p)\n",
    "        print(p, my_log_volumes1[p])\n",
    "    elif p > 30:\n",
    "        my_log_volumes1[p] = compute_log_volume_fast(get_ramification_dataset1, e0, p)"
   ]
  },
  {
   "cell_type": "code",
   "execution_count": 3,
   "metadata": {},
   "outputs": [],
   "source": [
    "# upper bounds for $\\log(x^{3r} y^s)$ when $\\max\\{3r, s\\} \\ge u0_apos \\ge u_0$,\n",
    "# slso for $\\log(x^{3r})$ when $3r \\ge u0_apos$; and for $\\log(y^s)$ when $s \\ge u0_apos$.\n",
    "def get_impossible_interval_1(log_volumes,S,k,u0,u0_apos):\n",
    "    S = sorted(S)\n",
    "    n = len(S)\n",
    "    if n < k:\n",
    "        return []\n",
    "    S1 = [3]\n",
    "    e0 = 12\n",
    "    p_N = 2\n",
    "    n0 = 27\n",
    "\n",
    "    # define p_*, u_*, n_*\n",
    "    p0 = S[0]\n",
    "    u0 = u0\n",
    "    n1_S = p0\n",
    "    nk_S = prod(S[:k])\n",
    "    # N'\n",
    "    u0_apos = u0_apos\n",
    "    n1_S_apos = max(u0_apos, p0)\n",
    "    # define a_*, b_*\n",
    "    a1 = 0 \n",
    "    a2 = 0\n",
    "    a3 = 0\n",
    "    a4 = []\n",
    "    for l in S:\n",
    "        a1 += (l*l+5*l)/(l*l+l-12)*(1-1/e0/l)\n",
    "        a2 += log_volumes[l] + log(2) # by the definition of Vol(l)\n",
    "        a3 += log(l)\n",
    "        a4.append((l+5)*(l-1)/(l*l+l-12)/e0)\n",
    "    a1 = a1 / n * 6\n",
    "    a2 = a2 / n * 6\n",
    "    a3 = a3\n",
    "    a4 = min(a4) * 6\n",
    "    a5 = sum([log(p) for p in S1])\n",
    "    #  define b_1, b'_1, b_2, impossible inteval\n",
    "    b1 = max(k/n + (a1-a4) / n1_S, a1/u0)\n",
    "    b1_apos = max(k/n + (a1-a4) / n1_S_apos, a1/u0_apos)\n",
    "    b2 = a1/u0 * log(n0) + a2 + a1*a3 + (a1-a4)*a5\n",
    "    if b1 > 1 or b1_apos >= 1:\n",
    "        return []\n",
    "    upper_bound = nk_S * log(p_N)\n",
    "    lower_bound = b2 / (1-b1_apos)\n",
    "    if lower_bound > upper_bound:\n",
    "        return []\n",
    "    return [lower_bound,upper_bound]\n",
    "\n",
    "\n",
    "def get_upper_bound_1(log_volumes,u0,u0_apos):\n",
    "    my_primes = [p for p in primes(150) if p >= 11 and p != 13]\n",
    "    # choice of possible set S\n",
    "    intervals = []\n",
    "    arr_S = []\n",
    "    for n in range(2,20):\n",
    "        for k in range(len(my_primes)-n):\n",
    "            arr_S.append(my_primes[k:k+n])\n",
    "    # impossible inteval for log(N')\n",
    "    for S in arr_S:\n",
    "        for k in [2,3,4,5]:\n",
    "            interval = get_impossible_interval_1(log_volumes,S,k,u0,u0_apos)\n",
    "            if len(interval)==2:\n",
    "                intervals.append(interval)\n",
    "    res = merge_intervals(intervals)\n",
    "    if len(res) == 0:\n",
    "        return -999\n",
    "    return res[-1][0] + log(27)\n"
   ]
  },
  {
   "cell_type": "markdown",
   "metadata": {},
   "source": [
    "when $r \\in \\{4,5\\}$, $7\\le s\\le 3677$"
   ]
  },
  {
   "cell_type": "code",
   "execution_count": 13,
   "metadata": {},
   "outputs": [
    {
     "name": "stdout",
     "output_type": "stream",
     "text": [
      "3600  2548.496\n",
      "3677.429659225968\n"
     ]
    }
   ],
   "source": [
    "# when r in [4, 5], we have t >= 7\n",
    "# compute upper bounds for log(y^s), s >= u0_apos = 3600\n",
    "u0_apos = 3600\n",
    "bound = get_upper_bound_1(my_log_volumes1,min(3*4, u0_apos),u0_apos)\n",
    "print(u0_apos,f\"{bound + 1e-3: .3f}\")\n",
    "# when s >= 3600, we have log(2^s) <= log(y^s) < 2549 (since y >= 2 by Catalan's conjecture), hence $s < 2550 / log(2) < 3678, 7 <= s <= 3677\n",
    "print(2549 / log(2))"
   ]
  },
  {
   "cell_type": "markdown",
   "metadata": {},
   "source": [
    "when $r, s \\ge 7$, we have $7 \\le r,s \\le 1226$"
   ]
  },
  {
   "cell_type": "code",
   "execution_count": 46,
   "metadata": {},
   "outputs": [
    {
     "name": "stdout",
     "output_type": "stream",
     "text": [
      "3600  2550.535\n",
      "1226.771683102582\n"
     ]
    }
   ],
   "source": [
    "# s >= 7, compute upper bounds for log(x^{3r}), 3r >= u0_apos = 2000\n",
    "u0_apos = 3600\n",
    "bound = get_upper_bound_1(my_log_volumes1,7,u0_apos)\n",
    "print(u0_apos,f\"{bound + 1e-3: .3f}\")\n",
    "# when r >= 3600, we have log(2^{3r}) <= log(x^{3r}) < 2551, hence $r < 2551 / 3 / log(2) < 1227, 7 <= r <= 1226, similarly, we have 7 <= s <= 1226\n",
    "print(2551 / 3 / log(2))"
   ]
  },
  {
   "cell_type": "code",
   "execution_count": 79,
   "metadata": {},
   "outputs": [
    {
     "data": {
      "text/plain": [
       "30676.40156919736"
      ]
     },
     "execution_count": 79,
     "metadata": {},
     "output_type": "execute_result"
    }
   ],
   "source": [
    "# r,s >= 7 => log(x^{3r} y^s) < 31000\n",
    "get_upper_bound_1(my_log_volumes1,7,7)"
   ]
  },
  {
   "cell_type": "code",
   "execution_count": 81,
   "metadata": {},
   "outputs": [
    {
     "data": {
      "text/plain": [
       "(4438.961498373133, 1479.6538327910441)"
      ]
     },
     "execution_count": 81,
     "metadata": {},
     "output_type": "execute_result"
    }
   ],
   "source": [
    "# r,s >= 7 => log(x^{3r}) < 4439 => log(x^r) < 1480\n",
    "bound = get_upper_bound_1(my_log_volumes1,7,21)\n",
    "bound, bound / 3\n"
   ]
  },
  {
   "cell_type": "markdown",
   "metadata": {},
   "source": [
    "### Case 2: $F=\\mathbb Q(E[4])$"
   ]
  },
  {
   "cell_type": "code",
   "execution_count": 96,
   "metadata": {},
   "outputs": [
    {
     "data": {
      "application/vnd.jupyter.widget-view+json": {
       "model_id": "979cf1155824472e938b1b821081fd44",
       "version_major": 2,
       "version_minor": 0
      },
      "text/plain": [
       "  0%|          | 0/62 [00:00<?, ?it/s]"
      ]
     },
     "metadata": {},
     "output_type": "display_data"
    },
    {
     "name": "stdout",
     "output_type": "stream",
     "text": [
      "5 59.17843935222741\n",
      "7 50.356443373450205\n",
      "11 51.87927802801745\n",
      "13 54.9948057061493\n",
      "17 61.945242964890056\n",
      "19 65.7568310535161\n",
      "23 73.48046840034378\n",
      "29 85.47170755570102\n"
     ]
    }
   ],
   "source": [
    "e0 = 4\n",
    "def get_ramification_dataset2(l):\n",
    "    ep_range = dict()\n",
    "    ep_range['general'] = {'good':[1], 'multi':divisors(4*l)}\n",
    "    ep_range[2] = {'good':[e for e in divisors(96) if e%2 == 0], 'multi':[e for e in divisors(8*l) if e%2 == 0]}\n",
    "    ep_range[3] = {'good':[e for e in divisors(12) if e%2 == 0], 'multi':[2*e for e in divisors(8*l)]}\n",
    "    ep_range[l] = {'good':[l-1,l*(l-1),l*l-1], 'multi':[(l-1)*e for e in divisors(4*l)]}\n",
    "    return ep_range\n",
    "\n",
    "# compute log-volume\n",
    "my_log_volumes2 = dict()\n",
    "for p in tqdm(primes(300)):\n",
    "    if p >= 5 and p <= 30:\n",
    "        my_log_volumes2[p] = compute_log_volume(get_ramification_dataset2, e0, p)\n",
    "        print(p, my_log_volumes2[p])\n",
    "    elif p > 30:\n",
    "        my_log_volumes2[p] = compute_log_volume_fast(get_ramification_dataset2, e0, p)"
   ]
  },
  {
   "cell_type": "markdown",
   "metadata": {},
   "source": [
    "suppose that $r\\ge 7$, $s \\ge 21$, then $r,s \\le 1226$. \n",
    "\n",
    "Let $x_0, y_0$ be the coprime to $2$ part of $x,y$."
   ]
  },
  {
   "cell_type": "code",
   "execution_count": 97,
   "metadata": {},
   "outputs": [],
   "source": [
    "# upper bounds for $\\log(x1^{3r} y1^s)$ when $\\max\\{3r, s\\} = s_0 = u_0$,\n",
    "# slso for $\\log(x^{3r1})$ when $u0_apos = 3r \\ge s_0$; and for $\\log(y1^s)$ when $s \\ge s_0$.\n",
    "def get_impossible_interval_2(log_volumes,S,k,u0,u0_apos):\n",
    "    S = sorted(S)\n",
    "    n = len(S)\n",
    "    if n < k:\n",
    "        return []\n",
    "    S1 = [3]\n",
    "    e0 = 2\n",
    "    p_N = 3\n",
    "    n0 = 27\n",
    "\n",
    "    # define p_*, u_*, n_*\n",
    "    p0 = S[0]\n",
    "    u0 = u0\n",
    "    n1_S = p0\n",
    "    nk_S = prod(S[:k])\n",
    "    # N'\n",
    "    u0_apos = u0_apos\n",
    "    n1_S_apos = u0_apos\n",
    "    # define a_*, b_*\n",
    "    a1 = 0 \n",
    "    a2 = 0\n",
    "    a3 = 0\n",
    "    a4 = []\n",
    "    for l in S:\n",
    "        a1 += (l*l+5*l)/(l*l+l-12)*(1-1/e0/l)\n",
    "        a2 += log_volumes[l] + log(2) # by the definition of Vol(l)\n",
    "        a3 += log(l)\n",
    "        a4.append((l+5)*(l-1)/(l*l+l-12)/e0)\n",
    "    a1 = a1 / n * 6\n",
    "    a2 = a2 / n * 6\n",
    "    a3 = a3\n",
    "    a4 = min(a4) * 6\n",
    "    a5 = sum([log(p) for p in S1])\n",
    "    #  define b_1, b'_1, b_2, impossible inteval\n",
    "    b1 = max(k/n + (a1-a4) / n1_S, a1/u0)\n",
    "    b1_apos = max(k/n + (a1-a4) / n1_S_apos, a1/u0_apos)\n",
    "    b2 = a1/u0 * log(n0) + a2 + a1*a3 + (a1-a4)*a5\n",
    "    if b1 > 1 or b1_apos >= 1:\n",
    "        return []\n",
    "    upper_bound = nk_S * log(p_N)\n",
    "    lower_bound = b2 / (1-b1_apos)\n",
    "    if lower_bound > upper_bound:\n",
    "        return []\n",
    "    return [lower_bound,upper_bound]\n",
    "\n",
    "def get_upper_bound_2(log_volumes,u0,u0_apos):\n",
    "    # choose l \\nmid r * s\n",
    "    my_primes = [p for p in primes(150) if p >= 11 and p != 13]\n",
    "    # choice of possible set S\n",
    "    intervals = []\n",
    "    arr_S = []\n",
    "    for n in range(2,20):\n",
    "        for k in range(len(my_primes)-n):\n",
    "            arr_S.append(my_primes[k:k+n])\n",
    "    # impossible inteval for log(N')\n",
    "    for S in arr_S:\n",
    "        for k in [2,3,4,5]:\n",
    "            interval = get_impossible_interval_2(log_volumes,S,k,u0,u0_apos)\n",
    "            if len(interval)==2:\n",
    "                intervals.append(interval)\n",
    "    res = merge_intervals(intervals)\n",
    "    if len(res) == 0:\n",
    "        return -999\n",
    "    return res[-1][0] + log(27)"
   ]
  },
  {
   "cell_type": "markdown",
   "metadata": {},
   "source": [
    "since $\\min\\{3r, s\\} \\ge 21$, we have $\\log(x_0^{3r} y_0^s) \\le 1481$, $\\log(x_0^r) \\le 494$; $\\log(y_0^{3s} x_0^r) \\le 1208$, $\\log(y_0^s) \\le 403$. "
   ]
  },
  {
   "cell_type": "code",
   "execution_count": 107,
   "metadata": {},
   "outputs": [
    {
     "name": "stdout",
     "output_type": "stream",
     "text": [
      "1480.5316202428494 493.5105400809498\n",
      "1207.9398418843236 402.64661396144123\n"
     ]
    }
   ],
   "source": [
    "# x^{3r} y^s\n",
    "bound = get_upper_bound_2(my_log_volumes2,21,21)\n",
    "print(bound, bound / 3)\n",
    "# y^{3s} x^r\n",
    "bound = get_upper_bound_2(my_log_volumes2,7,63)\n",
    "print(bound, bound / 3)\n",
    "\n",
    "\n"
   ]
  }
 ],
 "metadata": {
  "kernelspec": {
   "display_name": "base",
   "language": "python",
   "name": "python3"
  },
  "language_info": {
   "codemirror_mode": {
    "name": "ipython",
    "version": 3
   },
   "file_extension": ".py",
   "mimetype": "text/x-python",
   "name": "python",
   "nbconvert_exporter": "python",
   "pygments_lexer": "ipython3",
   "version": "3.8.8"
  }
 },
 "nbformat": 4,
 "nbformat_minor": 2
}
