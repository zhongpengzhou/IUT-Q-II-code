{
 "cells": [
  {
   "cell_type": "code",
   "execution_count": 6,
   "metadata": {},
   "outputs": [],
   "source": [
    "import sys\n",
    "import os\n",
    "\n",
    "parent_dir = os.path.abspath(os.path.join(os.getcwd(), '..'))\n",
    "sys.path.append(parent_dir)\n",
    "\n",
    "from python_utils import *\n",
    " \n",
    "from tqdm.notebook import tqdm, trange"
   ]
  },
  {
   "cell_type": "code",
   "execution_count": 2,
   "metadata": {},
   "outputs": [
    {
     "data": {
      "text/plain": [
       "10.221876748911196"
      ]
     },
     "execution_count": 2,
     "metadata": {},
     "output_type": "execute_result"
    }
   ],
   "source": [
    "p = 5\n",
    "3 * sqrt(p * log(p) / log(2))"
   ]
  },
  {
   "cell_type": "code",
   "execution_count": null,
   "metadata": {},
   "outputs": [],
   "source": [
    "'''\n",
    "Suppose that $(r,s,t)$ is a permutation of $(2,3,n)$ with $n\\ge 7$, such that $n$ does not satisfy the following conditions:\n",
    "\\begin{itemize}\n",
    "\\item $11\\le n \\le 109$ or $n\\in \\{113, 121\\}$.\n",
    "\\item $n$ is not divided by $6,7,8,9,10,15$.\n",
    "\\end{itemize}\n",
    "Then the generalized Fermat equation $x^r + y^s = z^t$ has no positive primitive solution except for the Catalan solutions and the nine non-Catalan solutions enumerated in the introduction.\n",
    "'''"
   ]
  }
 ],
 "metadata": {
  "kernelspec": {
   "display_name": "base",
   "language": "python",
   "name": "python3"
  },
  "language_info": {
   "codemirror_mode": {
    "name": "ipython",
    "version": 3
   },
   "file_extension": ".py",
   "mimetype": "text/x-python",
   "name": "python",
   "nbconvert_exporter": "python",
   "pygments_lexer": "ipython3",
   "version": "3.8.8"
  }
 },
 "nbformat": 4,
 "nbformat_minor": 2
}
