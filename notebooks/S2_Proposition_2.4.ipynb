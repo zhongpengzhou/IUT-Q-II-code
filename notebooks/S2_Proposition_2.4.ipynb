{
 "cells": [
  {
   "cell_type": "code",
   "execution_count": 1,
   "metadata": {},
   "outputs": [],
   "source": [
    "import sys\n",
    "import os\n",
    "\n",
    "parent_dir = os.path.abspath(os.path.join(os.getcwd(), '..'))\n",
    "sys.path.append(parent_dir)\n",
    "\n",
    "from python_utils import *\n",
    "from tqdm.notebook import tqdm, trange\n",
    "import itertools"
   ]
  },
  {
   "cell_type": "markdown",
   "metadata": {},
   "source": [
    "Let $r,s,t \\ge 4$ be positive integers.\n",
    "\n",
    "Let $x,y,z$ be positive coprime integers such that $$\\delta_r x^r + \\delta_s y^s = z^t,$$ where $\\delta_r,\\delta_s \\in \\{\\pm 1\\}$. By Catalan's conjecture, we have $|x|,|y|,|z|\\ge 2$.\n",
    "\n",
    "Assume without loss of generality that $s\\ge r\\ge t\\ge 4$."
   ]
  },
  {
   "cell_type": "markdown",
   "metadata": {},
   "source": [
    "### Part 1: compute for assersion (i)"
   ]
  },
  {
   "cell_type": "code",
   "execution_count": null,
   "metadata": {},
   "outputs": [
    {
     "data": {
      "application/vnd.jupyter.widget-view+json": {
       "model_id": "85f0d691ed4e4773a8ded6a8c6815706",
       "version_major": 2,
       "version_minor": 0
      },
      "text/plain": [
       "  0%|          | 0/46 [00:00<?, ?it/s]"
      ]
     },
     "metadata": {},
     "output_type": "display_data"
    }
   ],
   "source": [
    "e0 = 3\n",
    "def get_ramification_dataset1(l):\n",
    "    ep_range = dict()\n",
    "    ep_range['general'] = {'good':[1], 'multi':[1,3,l,3*l]}\n",
    "    ep_range[2] = {'good':[2], 'multi':[2,6,2*l,6*l]}\n",
    "    ep_range[3] = {'good':[2,6,8], 'multi':[2,6,2*l,6*l]}\n",
    "    ep_range[l] = {'good':[l-1,l*(l-1),l*l-1], 'multi':[l-1,3*(l-1),l*(l-1),3*l*(l-1)]}\n",
    "    return ep_range\n",
    "\n",
    "# compute log-volume\n",
    "my_log_volumes1 = dict()\n",
    "for p in tqdm(primes(200)):\n",
    "    if p >= 5 and p <= 50:\n",
    "        my_log_volumes1[p] = compute_log_volume(get_ramification_dataset1, e0, p)\n",
    "    elif p > 50:\n",
    "        my_log_volumes1[p] = compute_log_volume_fast(get_ramification_dataset1, e0, p)\n"
   ]
  },
  {
   "cell_type": "code",
   "execution_count": 124,
   "metadata": {},
   "outputs": [
    {
     "name": "stdout",
     "output_type": "stream",
     "text": [
      "4  1692.823\n",
      "5  863.550\n",
      "6  667.141\n",
      "7  570.957\n",
      "8  545.217\n",
      "9  541.231\n",
      "10  538.040\n",
      "11  538.040\n",
      "12  538.040\n",
      "13  538.040\n",
      "14  538.040\n",
      "100  442.557\n",
      "200  433.291\n",
      "300  430.289\n",
      "400  428.803\n",
      "500  427.917\n",
      "600  427.328\n"
     ]
    }
   ],
   "source": [
    "# apos: apostrophe, i.e. the '\n",
    "\n",
    "def get_impossible_interval_1(log_volumes,S,k,s0,is_l_mid_exponents=False):\n",
    "    S = sorted(S)\n",
    "    n = len(S)\n",
    "    if n < k:\n",
    "        return []\n",
    "    S1 = [2]\n",
    "    e0 = 3\n",
    "    p_N = 2\n",
    "    n0 = pow(2,8)\n",
    "\n",
    "    # define p_*, u_*, n_*\n",
    "    p0 = S[0]\n",
    "    u0 = 2 * 4\n",
    "    n1_S = 2 * p0\n",
    "    nk_S = 2 * prod(S[:k])\n",
    "    # N'\n",
    "    u0_apos = 2 * s0\n",
    "    if is_l_mid_exponents:\n",
    "        n1_S_apos = u0_apos * p0\n",
    "    else:\n",
    "        n1_S_apos = max(u0_apos, 2*p0)\n",
    "    # define a_*, b_*\n",
    "    a1 = 0 \n",
    "    a2 = 0\n",
    "    a3 = 0\n",
    "    a4 = []\n",
    "    for l in S:\n",
    "        a1 += (l*l+5*l)/(l*l+l-12)*(1-1/e0/l)\n",
    "        a2 += log_volumes[l] \n",
    "        a3 += log(l)\n",
    "        a4.append((l+5)*(l-1)/(l*l+l-12)/e0)\n",
    "    a1 = a1 / n * 6\n",
    "    a2 = a2 / n * 6\n",
    "    a3 = a3\n",
    "    a4 = min(a4) * 6\n",
    "    a5 = sum([log(p) for p in S1])\n",
    "    #  define b_1, b'_1, b_2, impossible inteval\n",
    "    b1 = max(k/n + (a1-a4) / n1_S, a1/u0)\n",
    "    b1_apos = max(k/n + (a1-a4) / n1_S_apos, a1/u0_apos)\n",
    "    b2 = a1/u0 * log(n0) + a2 + a1*a3 + (a1-a4)*a5\n",
    "    if b1 > 1 or b1_apos >= 1:\n",
    "        return []\n",
    "    upper_bound = nk_S * log(p_N)\n",
    "    lower_bound = b2 / (1-b1_apos)\n",
    "    if lower_bound > upper_bound:\n",
    "        return []\n",
    "    return [lower_bound,upper_bound]\n",
    "\n",
    "\n",
    "def get_upper_bound_1(log_volumes,s0):\n",
    "    my_primes = [p for p in primes(200) if p >= 11]\n",
    "    # choice of possible set S\n",
    "    intervals = []\n",
    "    arr_S = []\n",
    "    for n in range(2,20):\n",
    "        for k in range(len(my_primes)-n):\n",
    "            arr_S.append(my_primes[k:k+n])\n",
    "    # impossible inteval for log(N')\n",
    "    for S in arr_S:\n",
    "        for k in [2,3,4,5]:\n",
    "            interval = get_impossible_interval_1(log_volumes,S,k,s0,is_l_mid_exponents=False)\n",
    "            if len(interval)==2:\n",
    "                intervals.append(interval)\n",
    "    res = merge_intervals(intervals)\n",
    "    if len(res) == 0:\n",
    "        return -999\n",
    "    return (res[-1][0] + log(pow(2,8))) / 2\n",
    "\n",
    "# upper bounds for different s0\n",
    "for s0 in [i for i in range(4,15)] + [100*i for i in range(1,7)]:\n",
    "    bound = get_upper_bound_1(my_log_volumes1,s0)\n",
    "    print(s0,f\"{bound + 1e-3: .3f}\")\n",
    "\n"
   ]
  },
  {
   "cell_type": "markdown",
   "metadata": {},
   "source": [
    "Since $2^s \\le \\log(y^s) < 427.5 / \\log(2) < 617$, we have $t = \\min \\{ r,s,t \\} \\le 616$.\n"
   ]
  },
  {
   "cell_type": "code",
   "execution_count": 8,
   "metadata": {},
   "outputs": [
    {
     "data": {
      "text/plain": [
       "616.7521299800319"
      ]
     },
     "execution_count": 8,
     "metadata": {},
     "output_type": "execute_result"
    }
   ],
   "source": [
    "427.5 / log(2)  "
   ]
  },
  {
   "cell_type": "markdown",
   "metadata": {},
   "source": [
    "### Part 2: compute for assersion (ii)"
   ]
  },
  {
   "cell_type": "code",
   "execution_count": null,
   "metadata": {},
   "outputs": [
    {
     "data": {
      "application/vnd.jupyter.widget-view+json": {
       "model_id": "153bcdfdf95d4b3da44801791732dfc5",
       "version_major": 2,
       "version_minor": 0
      },
      "text/plain": [
       "  0%|          | 0/46 [00:00<?, ?it/s]"
      ]
     },
     "metadata": {},
     "output_type": "display_data"
    }
   ],
   "source": [
    "e0 = 1\n",
    "def get_ramification_dataset3(l):\n",
    "    ep_range = dict()\n",
    "    ep_range['general'] = {'good':[1], 'multi':[1,l]}\n",
    "    ep_range[2] = {'good':[2], 'multi':[2,2*l]}\n",
    "    ep_range[l] = {'good':[l-1,l*(l-1),l*l-1], 'multi':[l-1,l*(l-1)]}\n",
    "    return ep_range\n",
    "\n",
    "# compute log-volume\n",
    "my_log_volumes3 = dict()\n",
    "for p in tqdm(primes(200)):\n",
    "    if p >= 5 and p <= 50:\n",
    "        my_log_volumes3[p] = compute_log_volume(get_ramification_dataset3, e0, p)\n",
    "    elif p > 50:\n",
    "        my_log_volumes3[p] = compute_log_volume_fast(get_ramification_dataset3, e0, p)\n"
   ]
  },
  {
   "cell_type": "code",
   "execution_count": 126,
   "metadata": {},
   "outputs": [
    {
     "name": "stdout",
     "output_type": "stream",
     "text": [
      "4  804.308\n",
      "5  393.280\n",
      "6  310.066\n",
      "7  266.195\n",
      "8  255.221\n",
      "9  245.858\n",
      "10  245.408\n",
      "11  245.408\n",
      "12  245.408\n",
      "13  245.408\n",
      "14  245.408\n"
     ]
    }
   ],
   "source": [
    "def get_impossible_interval_2(log_volumes,S,k,s0,is_l_mid_exponents=False):\n",
    "    S = sorted(S)\n",
    "    n = len(S)\n",
    "    if n < k:\n",
    "        return []\n",
    "    S1 = []\n",
    "    e0 = 1\n",
    "    p_N = 3\n",
    "    n0 = 1\n",
    "\n",
    "    # define p_*, u_*, n_*\n",
    "    p0 = S[0]\n",
    "    u0 = 2 * 4\n",
    "    n1_S = 2 * p0\n",
    "    nk_S = 2 * prod(S[:k])\n",
    "    # N'\n",
    "    u0_apos = 2 * s0\n",
    "    if is_l_mid_exponents:\n",
    "        n1_S_apos = u0_apos * p0\n",
    "    else:\n",
    "        n1_S_apos = max(u0_apos, 2*p0)\n",
    "    # define a_*, b_*\n",
    "    a1 = 0 \n",
    "    a2 = 0\n",
    "    a3 = 0\n",
    "    a4 = []\n",
    "    for l in S:\n",
    "        a1 += (l*l+5*l)/(l*l+l-12)*(1-1/e0/l)\n",
    "        a2 += log_volumes[l] + log(2) # by the definition of Vol(l)\n",
    "        a3 += log(l)\n",
    "        a4.append((l+5)*(l-1)/(l*l+l-12)/e0)\n",
    "    a1 = a1 / n * 6\n",
    "    a2 = a2 / n * 6\n",
    "    a3 = a3\n",
    "    a4 = min(a4) * 6\n",
    "    a5 = sum([log(p) for p in S1])\n",
    "    #  define b_1, b'_1, b_2, impossible inteval\n",
    "    b1 = max(k/n + (a1-a4) / n1_S, a1/u0)\n",
    "    b1_apos = max(k/n + (a1-a4) / n1_S_apos, a1/u0_apos)\n",
    "    b2 = a1/u0 * log(n0) + a2 + a1*a3 + (a1-a4)*a5\n",
    "    if b1 > 1 or b1_apos >= 1:\n",
    "        return []\n",
    "    upper_bound = nk_S * log(p_N)\n",
    "    lower_bound = b2 / (1-b1_apos)\n",
    "    if lower_bound > upper_bound:\n",
    "        return []\n",
    "    return [lower_bound,upper_bound]\n",
    "\n",
    "\n",
    "def get_upper_bound_2(log_volumes,s0):\n",
    "    my_primes = [p for p in primes(200) if p >= 11]\n",
    "    # choice of possible set S\n",
    "    intervals = []\n",
    "    arr_S = []\n",
    "    for n in range(2,20):\n",
    "        for k in range(len(my_primes)-n):\n",
    "            arr_S.append(my_primes[k:k+n])\n",
    "    # impossible inteval for log(N')\n",
    "    for S in arr_S:\n",
    "        for k in [2,3,4,5]:\n",
    "            interval = get_impossible_interval_2(log_volumes,S,k,s0,is_l_mid_exponents=False)\n",
    "            if len(interval)==2:\n",
    "                intervals.append(interval)\n",
    "    res = merge_intervals(intervals)\n",
    "    if len(res) == 0:\n",
    "        return -999\n",
    "    return res[-1][0] / 2\n",
    "\n",
    "# upper bounds for different s0\n",
    "for s0 in [i for i in range(4,15)]:\n",
    "    bound = get_upper_bound_2(my_log_volumes3,s0)\n",
    "    print(s0,f\"{bound + 1e-3: .3f}\")\n",
    "\n"
   ]
  },
  {
   "cell_type": "markdown",
   "metadata": {},
   "source": [
    "When $s_0 \\ge 8$, we have $h < 257$. We shall compute more when at least one of $r,s,t$ equals $7$."
   ]
  },
  {
   "cell_type": "code",
   "execution_count": 77,
   "metadata": {},
   "outputs": [],
   "source": [
    "def get_impossible_interval_3(log_volumes,S,k,s0,r,s,t):\n",
    "    # s0 equals one of r,s,t, l \\nmid rst\n",
    "    S = sorted(S)\n",
    "    n = len(S)\n",
    "    if n < k:\n",
    "        return []\n",
    "    S1 = []\n",
    "    e0 = 1\n",
    "    p_N = 3\n",
    "    n0 = 3\n",
    "\n",
    "    # define p_*, u_*, n_*\n",
    "    p0 = S[0]\n",
    "    u0 = 2 * min(r,s,t)\n",
    "    n1_S = u0 * p0\n",
    "    nk_S = u0 * prod(S[:k])\n",
    "    # N'\n",
    "    u0_apos = 2 * s0\n",
    "    n1_S_apos = u0_apos * p0\n",
    "    # define a_*, b_*\n",
    "    a1 = 0 \n",
    "    a2 = 0\n",
    "    a3 = 0\n",
    "    a4 = []\n",
    "    for l in S:\n",
    "        a1 += (l*l+5*l)/(l*l+l-12)*(1-1/e0/l)\n",
    "        a2 += log_volumes[l] + log(2) # by the definition of Vol(l)\n",
    "        a3 += log(l)\n",
    "        a4.append((l+5)*(l-1)/(l*l+l-12)/e0)\n",
    "    a1 = a1 / n * 6\n",
    "    a2 = a2 / n * 6\n",
    "    a3 = a3\n",
    "    a4 = min(a4) * 6\n",
    "    a5 = sum([log(p) for p in S1])\n",
    "    #  define b_1, b'_1, b_2, impossible inteval\n",
    "    b1 = max(k/n + (a1-a4) / n1_S, a1/u0)\n",
    "    b1_apos = max(k/n + (a1-a4) / n1_S_apos, a1/u0_apos)\n",
    "    b2 = a1/u0 * log(n0) + a2 + a1*a3 + (a1-a4)*a5\n",
    "    if b1 > 1 or b1_apos >= 1:\n",
    "        return []\n",
    "    upper_bound = nk_S * log(p_N)\n",
    "    lower_bound = b2 / (1-b1_apos)\n",
    "    if lower_bound > upper_bound:\n",
    "        return []\n",
    "    return [lower_bound,upper_bound]\n",
    "\n",
    "\n",
    "def get_upper_bound_3(log_volumes,s0,r,s,t):\n",
    "    my_primes = [p for p in primes(200) if p >= 11 and r*s*t % p != 0]\n",
    "    # choice of possible set S\n",
    "    intervals = []\n",
    "    arr_S = []\n",
    "    for n in range(2,20):\n",
    "        for k in range(len(my_primes)-n):\n",
    "            arr_S.append(my_primes[k:k+n])\n",
    "    # impossible inteval for log(N')\n",
    "    for S in arr_S:\n",
    "        for k in [2,3,4,5]:\n",
    "            interval = get_impossible_interval_3(log_volumes,S,k,s0,r,s,t)\n",
    "            if len(interval)==2:\n",
    "                intervals.append(interval)\n",
    "    res = merge_intervals(intervals)\n",
    "    if len(res) == 0:\n",
    "        return -999\n",
    "    return res[-1][0] / 2\n",
    "\n",
    "\n"
   ]
  },
  {
   "cell_type": "markdown",
   "metadata": {},
   "source": [
    "When $r,s,t$ are not divided by $11,13,17,19$, we have $2h < 510$, hence $h < 255$."
   ]
  },
  {
   "cell_type": "code",
   "execution_count": 111,
   "metadata": {},
   "outputs": [
    {
     "name": "stdout",
     "output_type": "stream",
     "text": [
      "(11, 13, 17, 19) [499.4682095570748, 1256.8124582363175]\n",
      "(11, 13, 17, 23) [505.9595024651539, 1256.8124582363175]\n",
      "(11, 13, 19, 23) [508.5555975852461, 1256.8124582363175]\n",
      "(11, 17, 19, 23) [507.6678359602779, 1643.5239838474922]\n",
      "(13, 17, 19, 23) [504.563527302414, 1942.346526365218]\n"
     ]
    }
   ],
   "source": [
    "arr_S = list(itertools.combinations([11,13,17,19,23],4))\n",
    "for S in arr_S:\n",
    "    print(S, get_impossible_interval_3(my_log_volumes3,S,k=2,s0=7,r=4,s=4,t=7))"
   ]
  },
  {
   "cell_type": "code",
   "execution_count": 113,
   "metadata": {},
   "outputs": [
    {
     "name": "stdout",
     "output_type": "stream",
     "text": [
      "11 11 251.8488077467494\n",
      "11 13 263.04134827897263\n",
      "11 17 260.62746199519466\n",
      "11 19 259.4945211061184\n",
      "11 23 256.56601115329437\n",
      "13 11 263.04134827897263\n",
      "13 13 253.3891495162904\n",
      "13 17 262.33233349965644\n",
      "13 19 261.17579500806045\n",
      "13 23 258.19181494338744\n",
      "17 11 260.62746199519466\n",
      "17 13 262.33233349965644\n",
      "17 17 253.81880358700298\n",
      "17 19 261.8021462485959\n",
      "17 23 258.7375732455667\n",
      "19 11 259.4945211061184\n",
      "19 13 261.17579500806045\n",
      "19 17 261.8021462485959\n",
      "19 19 252.51612171462799\n",
      "19 23 257.484126557055\n",
      "23 11 256.56601115329437\n",
      "23 13 258.19181494338744\n",
      "23 17 258.7375732455667\n",
      "23 19 257.484126557055\n",
      "23 23 249.26381061945455\n"
     ]
    }
   ],
   "source": [
    "max_r = 616\n",
    "\n",
    "s0 = 7\n",
    "for r in [11,13,17,19,23]:\n",
    "    for s in [11,13,17,19,23]:\n",
    "        bound = get_upper_bound_3(my_log_volumes3,s0,r,s,7)\n",
    "        print(r,s,bound)\n"
   ]
  },
  {
   "cell_type": "code",
   "execution_count": 119,
   "metadata": {},
   "outputs": [
    {
     "name": "stdout",
     "output_type": "stream",
     "text": [
      "9 4.18e+08\n",
      "10 5.75e+07\n",
      "11 1.13e+07\n",
      "12 2.93e+06\n",
      "13 9.31e+05\n",
      "14 3.49e+05\n",
      "15 1.49e+05\n",
      "16 7.07e+04\n",
      "17 3.67e+04\n",
      "18 2.05e+04\n",
      "19 1.21e+04\n"
     ]
    }
   ],
   "source": [
    "for s0 in range(9,20):\n",
    "    print(s0,f\"{exp(268*2/3/s0):.2e}\")"
   ]
  },
  {
   "cell_type": "code",
   "execution_count": null,
   "metadata": {},
   "outputs": [],
   "source": []
  },
  {
   "cell_type": "code",
   "execution_count": null,
   "metadata": {},
   "outputs": [],
   "source": []
  },
  {
   "cell_type": "code",
   "execution_count": null,
   "metadata": {},
   "outputs": [],
   "source": []
  },
  {
   "cell_type": "code",
   "execution_count": null,
   "metadata": {},
   "outputs": [],
   "source": []
  },
  {
   "cell_type": "code",
   "execution_count": null,
   "metadata": {},
   "outputs": [],
   "source": []
  },
  {
   "cell_type": "code",
   "execution_count": null,
   "metadata": {},
   "outputs": [],
   "source": []
  },
  {
   "cell_type": "code",
   "execution_count": null,
   "metadata": {},
   "outputs": [],
   "source": []
  },
  {
   "cell_type": "code",
   "execution_count": null,
   "metadata": {},
   "outputs": [],
   "source": []
  },
  {
   "cell_type": "code",
   "execution_count": 9,
   "metadata": {},
   "outputs": [
    {
     "name": "stdout",
     "output_type": "stream",
     "text": [
      "11 4.2666666666666675 131.28523392383883\n",
      "13 4.023529411764706 137.34703569022344\n",
      "17 3.7414965986394555 155.48847940816694\n",
      "19 3.652173913043478 163.917676856701\n",
      "23 3.525925925925926 181.54198264105023\n",
      "29 3.4079254079254078 209.57386002385223\n",
      "31 3.379591836734694 218.89589134822631\n",
      "37 3.3142037302725966 247.3515648511106\n",
      "17 159.88292856283937\n"
     ]
    }
   ],
   "source": [
    "my_primes = [11,13,17,19,23,29,31,37]\n",
    "a1_dict = dict()\n",
    "a2_dict = dict()\n",
    "for p in my_primes:\n",
    "    a1_dict[p] = 3*(p*p+5*p)/(p*p+p-12)*(1-1/3/p)\n",
    "    a2_dict[p] = max(3*my_log_volumes1[p] + a1_dict[p]*log(2), 3*my_log_volumes2[p] + a1_dict[p]*log(2*p))\n",
    "    print(p, a1_dict[p], a2_dict[p])\n",
    "print(17, a2_dict[17]+4*log(3))"
   ]
  },
  {
   "cell_type": "code",
   "execution_count": 10,
   "metadata": {},
   "outputs": [
    {
     "data": {
      "text/plain": [
       "(249.2977030656129,\n",
       " 610.6206760562537,\n",
       " 240.60198670579,\n",
       " 266.57049744179136,\n",
       " 319.950213954683)"
      ]
     },
     "execution_count": 10,
     "metadata": {},
     "output_type": "execute_result"
    }
   ],
   "source": [
    "864 / log(2) / 5, 1693 / log(2) / 4, (164/log(2)+4),(182/log(2)+4),(219/log(2)+4)\n"
   ]
  },
  {
   "cell_type": "code",
   "execution_count": 11,
   "metadata": {},
   "outputs": [
    {
     "data": {
      "text/plain": [
       "(240.60198670579, 266.57049744179136, 8.45149724645334)"
      ]
     },
     "execution_count": 11,
     "metadata": {},
     "output_type": "execute_result"
    }
   ],
   "source": [
    "164/log(2)+4,182/log(2)+4, 1693/(17*17*log(2))"
   ]
  },
  {
   "cell_type": "markdown",
   "metadata": {},
   "source": [
    "Since $r\\ge 5$, note that by Proposition \\ref{2-1-prop-bound}, we have $2^{r_2 r} \\le x^ry^sz^t \\le e^{668}$, hence $r_2 \\le \\frac{864}{r\\cdot \\log(2)} < 17^2$."
   ]
  }
 ],
 "metadata": {
  "kernelspec": {
   "display_name": "base",
   "language": "python",
   "name": "python3"
  },
  "language_info": {
   "codemirror_mode": {
    "name": "ipython",
    "version": 3
   },
   "file_extension": ".py",
   "mimetype": "text/x-python",
   "name": "python",
   "nbconvert_exporter": "python",
   "pygments_lexer": "ipython3",
   "version": "3.8.8"
  }
 },
 "nbformat": 4,
 "nbformat_minor": 2
}
