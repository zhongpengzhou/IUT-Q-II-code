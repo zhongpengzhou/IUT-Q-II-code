{
 "cells": [
  {
   "cell_type": "code",
   "execution_count": 1,
   "metadata": {},
   "outputs": [],
   "source": [
    "import sys\n",
    "import os\n",
    "\n",
    "parent_dir = os.path.abspath(os.path.join(os.getcwd(), '..'))\n",
    "sys.path.append(parent_dir)\n",
    "\n",
    "from python_utils import *\n",
    "from tqdm.notebook import tqdm, trange"
   ]
  },
  {
   "cell_type": "markdown",
   "metadata": {},
   "source": [
    "### Part 1: compute log-volumes"
   ]
  },
  {
   "cell_type": "code",
   "execution_count": 2,
   "metadata": {},
   "outputs": [
    {
     "data": {
      "application/vnd.jupyter.widget-view+json": {
       "model_id": "1162daa00308479e963dcf8a3c0e4211",
       "version_major": 2,
       "version_minor": 0
      },
      "text/plain": [
       "  0%|          | 0/46 [00:00<?, ?it/s]"
      ]
     },
     "metadata": {},
     "output_type": "display_data"
    }
   ],
   "source": [
    "e0 = 3\n",
    "def get_ramification_dataset1(l):\n",
    "    ep_range = dict()\n",
    "    ep_range['general'] = {'good':[1], 'multi':[1,3,l,3*l]}\n",
    "    ep_range[2] = {'good':[2], 'multi':[2,6,2*l,6*l]}\n",
    "    ep_range[3] = {'good':[2,6,8], 'multi':[2,6,2*l,6*l]}\n",
    "    ep_range[l] = {'good':[l-1,l*(l-1),l*l-1], 'multi':[l-1,3*(l-1),l*(l-1),3*l*(l-1)]}\n",
    "    return ep_range\n",
    "\n",
    "# compute log-volume\n",
    "my_log_volumes1 = dict()\n",
    "for p in tqdm(primes(200)):\n",
    "    if p >= 5 and p <= 50:\n",
    "        my_log_volumes1[p] = compute_log_volume(get_ramification_dataset1, e0, p)\n",
    "    elif p > 50:\n",
    "        my_log_volumes1[p] = compute_log_volume_fast(get_ramification_dataset1, e0, p)\n"
   ]
  },
  {
   "cell_type": "code",
   "execution_count": 3,
   "metadata": {},
   "outputs": [
    {
     "data": {
      "application/vnd.jupyter.widget-view+json": {
       "model_id": "afbb6f9d65114fea9ff8cc43265ea732",
       "version_major": 2,
       "version_minor": 0
      },
      "text/plain": [
       "  0%|          | 0/46 [00:00<?, ?it/s]"
      ]
     },
     "metadata": {},
     "output_type": "display_data"
    }
   ],
   "source": [
    "e0 = 3\n",
    "def get_ramification_dataset2(l):\n",
    "    ep_range = dict()\n",
    "    ep_range['general'] = {'good':[1], 'multi':[1,3,l,3*l]}\n",
    "    ep_range[2] = {'good':[2], 'multi':[2,6,2*l,6*l]}\n",
    "    ep_range[3] = {'good':[2,6,8], 'multi':[2,6,2*l,6*l]}\n",
    "    ep_range[l] = {'good':[], 'multi':[l-1,3*(l-1),l*(l-1),3*l*(l-1)]}\n",
    "    return ep_range\n",
    "\n",
    "# compute log-volume\n",
    "my_log_volumes2 = dict()\n",
    "for p in tqdm(primes(200)):\n",
    "    if p >= 5 and p <= 50:\n",
    "        my_log_volumes2[p] = compute_log_volume(get_ramification_dataset2, e0, p)\n",
    "    elif p > 50:\n",
    "        my_log_volumes2[p] = compute_log_volume_fast(get_ramification_dataset2, e0, p)"
   ]
  },
  {
   "cell_type": "code",
   "execution_count": 4,
   "metadata": {},
   "outputs": [
    {
     "data": {
      "application/vnd.jupyter.widget-view+json": {
       "model_id": "ef355f5cc60d4b61ad182a518d23a5a7",
       "version_major": 2,
       "version_minor": 0
      },
      "text/plain": [
       "  0%|          | 0/46 [00:00<?, ?it/s]"
      ]
     },
     "metadata": {},
     "output_type": "display_data"
    }
   ],
   "source": [
    "e0 = 1\n",
    "def get_ramification_dataset3(l):\n",
    "    ep_range = dict()\n",
    "    ep_range['general'] = {'good':[1], 'multi':[1,l]}\n",
    "    ep_range[2] = {'good':[2], 'multi':[2,2*l]}\n",
    "    ep_range[l] = {'good':[l-1,l*(l-1),l*l-1], 'multi':[l-1,l*(l-1)]}\n",
    "    return ep_range\n",
    "\n",
    "# compute log-volume\n",
    "my_log_volumes3 = dict()\n",
    "for p in tqdm(primes(200)):\n",
    "    if p >= 5 and p <= 50:\n",
    "        my_log_volumes3[p] = compute_log_volume(get_ramification_dataset3, e0, p)\n",
    "    elif p > 50:\n",
    "        my_log_volumes3[p] = compute_log_volume_fast(get_ramification_dataset3, e0, p)\n"
   ]
  },
  {
   "cell_type": "code",
   "execution_count": 5,
   "metadata": {},
   "outputs": [
    {
     "data": {
      "application/vnd.jupyter.widget-view+json": {
       "model_id": "93a7145e27e24dd18f429b68040b85b5",
       "version_major": 2,
       "version_minor": 0
      },
      "text/plain": [
       "  0%|          | 0/46 [00:00<?, ?it/s]"
      ]
     },
     "metadata": {},
     "output_type": "display_data"
    }
   ],
   "source": [
    "e0 = 1\n",
    "def get_ramification_dataset4(l):\n",
    "    ep_range = dict()\n",
    "    ep_range['general'] = {'good':[1], 'multi':[1,l]}\n",
    "    ep_range[2] = {'good':[2], 'multi':[2,2*l]}\n",
    "    ep_range[l] = {'good':[], 'multi':[l-1,l*(l-1)]}\n",
    "    return ep_range\n",
    "\n",
    "# compute log-volume\n",
    "my_log_volumes4 = dict()\n",
    "for p in tqdm(primes(200)):\n",
    "    if p >= 5 and p <= 50:\n",
    "        my_log_volumes4[p] = compute_log_volume(get_ramification_dataset4, e0, p)\n",
    "    elif p > 50:\n",
    "        my_log_volumes4[p] = compute_log_volume_fast(get_ramification_dataset4, e0, p)"
   ]
  },
  {
   "cell_type": "markdown",
   "metadata": {},
   "source": [
    "### Part 2: upper bounds for $r_2$, $r_l$, $x_1$, $x_l$"
   ]
  },
  {
   "cell_type": "code",
   "execution_count": 6,
   "metadata": {},
   "outputs": [
    {
     "name": "stdout",
     "output_type": "stream",
     "text": [
      "11 4.0 70.69993660871518\n",
      "13 3.8117647058823536 73.79478075605738\n",
      "17 3.5918367346938775 79.14076728942395\n",
      "19 3.5217391304347827 83.21614791966726\n",
      "23 3.4222222222222225 91.05592769506158\n",
      "29 3.3286713286713288 101.3971507446698\n",
      "31 3.306122448979592 105.18380298173827\n",
      "37 3.253945480631277 115.62893108211716\n"
     ]
    }
   ],
   "source": [
    "my_primes = [11,13,17,19,23,29,31,37]\n",
    "a1_dict = dict()\n",
    "a2_dict = dict()\n",
    "for p in my_primes:\n",
    "    a1_dict[p] = 3*(p*p+5*p)/(p*p+p-12)*(1-1/p)\n",
    "    a2_dict[p] = max(3*my_log_volumes3[p]+ a1_dict[p]*log(2) , 3*my_log_volumes4[p] + a1_dict[p]*log(2*p))\n",
    "    print(p, a1_dict[p], a2_dict[p])"
   ]
  },
  {
   "cell_type": "code",
   "execution_count": 7,
   "metadata": {},
   "outputs": [
    {
     "name": "stdout",
     "output_type": "stream",
     "text": [
      "11 4.2666666666666675 131.28523392383883\n",
      "13 4.023529411764706 137.34703569022344\n",
      "17 3.7414965986394555 155.48847940816694\n",
      "19 3.652173913043478 163.917676856701\n",
      "23 3.525925925925926 181.54198264105023\n",
      "29 3.4079254079254078 209.57386002385223\n",
      "31 3.379591836734694 218.89589134822631\n",
      "37 3.3142037302725966 247.3515648511106\n"
     ]
    }
   ],
   "source": [
    "my_primes = [11,13,17,19,23,29,31,37]\n",
    "a1_dict = dict()\n",
    "a2_dict = dict()\n",
    "for p in my_primes:\n",
    "    a1_dict[p] = 3*(p*p+5*p)/(p*p+p-12)*(1-1/3/p)\n",
    "    a2_dict[p] = max(3*my_log_volumes1[p]+ a1_dict[p]*log(2) , 3*my_log_volumes2[p] + a1_dict[p]*log(2*p))\n",
    "    print(p, a1_dict[p], a2_dict[p])"
   ]
  },
  {
   "cell_type": "markdown",
   "metadata": {},
   "source": [
    "compute for possible $(r,s,t,r_2)$"
   ]
  },
  {
   "cell_type": "code",
   "execution_count": 8,
   "metadata": {},
   "outputs": [
    {
     "data": {
      "application/vnd.jupyter.widget-view+json": {
       "model_id": "6ec73c9f44b14458abf4f0fa75b6a26d",
       "version_major": 2,
       "version_minor": 0
      },
      "text/plain": [
       "  0%|          | 0/613 [00:00<?, ?it/s]"
      ]
     },
     "metadata": {},
     "output_type": "display_data"
    },
    {
     "name": "stdout",
     "output_type": "stream",
     "text": [
      "17 306\n",
      "19 304\n",
      "34 306\n",
      "38 304\n",
      "51 306\n",
      "101 303\n",
      "303 303\n",
      "323 304\n"
     ]
    }
   ],
   "source": [
    "max_r = 616\n",
    "r = 4\n",
    "r2_dict = dict()\n",
    "for r in trange(4,max_r+1):\n",
    "    r2_dict[r] = 0\n",
    "    for r2 in range(int(2442/r)+1):\n",
    "        possible_l = []\n",
    "        for l in [17,19,23,29,31,37]:\n",
    "            # can assume that s,t are divided by at most two prime numbers >= 17\n",
    "            if r%l != 0 and (r*r2-4) % l != 0:\n",
    "                possible_l.append(l)\n",
    "            if len(possible_l) == 3:\n",
    "                break\n",
    "        if r2*r > int(a2_dict[l] / log(2) + 4):\n",
    "            continue\n",
    "        else:\n",
    "            r2_dict[r] = r * r2\n",
    "    # since 2^r = (2^{r/r1})^r1\n",
    "    r2_dict[r] = min([r2_dict[r1] for r1 in divisors(r) if r1 >= 4])\n",
    "    if r2_dict[r] > 300:\n",
    "        print(r, r2_dict[r])\n",
    "\n",
    "# r * r2 <= 306; r > r * r2, hence r2 = 0 when r > 303. "
   ]
  }
 ],
 "metadata": {
  "kernelspec": {
   "display_name": "base",
   "language": "python",
   "name": "python3"
  },
  "language_info": {
   "codemirror_mode": {
    "name": "ipython",
    "version": 3
   },
   "file_extension": ".py",
   "mimetype": "text/x-python",
   "name": "python",
   "nbconvert_exporter": "python",
   "pygments_lexer": "ipython3",
   "version": "3.8.8"
  }
 },
 "nbformat": 4,
 "nbformat_minor": 2
}
