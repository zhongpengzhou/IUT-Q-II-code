{
 "cells": [
  {
   "cell_type": "code",
   "execution_count": 2,
   "metadata": {},
   "outputs": [],
   "source": [
    "import sys\n",
    "import os\n",
    "\n",
    "parent_dir = os.path.abspath(os.path.join(os.getcwd(), '..'))\n",
    "sys.path.append(parent_dir)\n",
    "\n",
    "from python_utils import *\n",
    "from tqdm.notebook import tqdm, trange"
   ]
  },
  {
   "cell_type": "markdown",
   "metadata": {},
   "source": [
    "### Part 1: compute log-volumes"
   ]
  },
  {
   "cell_type": "code",
   "execution_count": 3,
   "metadata": {},
   "outputs": [
    {
     "data": {
      "application/vnd.jupyter.widget-view+json": {
       "model_id": "00619a051f2d44119e542810c6816f13",
       "version_major": 2,
       "version_minor": 0
      },
      "text/plain": [
       "  0%|          | 0/46 [00:00<?, ?it/s]"
      ]
     },
     "metadata": {},
     "output_type": "display_data"
    }
   ],
   "source": [
    "e0 = 3\n",
    "def get_ramification_dataset1(l):\n",
    "    ep_range = dict()\n",
    "    ep_range['general'] = {'good':[1], 'multi':[1,3,l,3*l]}\n",
    "    ep_range[2] = {'good':[2], 'multi':[2,6,2*l,6*l]}\n",
    "    ep_range[3] = {'good':[2,6,8], 'multi':[2,6,2*l,6*l]}\n",
    "    ep_range[l] = {'good':[l-1,l*(l-1),l*l-1], 'multi':[l-1,3*(l-1),l*(l-1),3*l*(l-1)]}\n",
    "    return ep_range\n",
    "\n",
    "# compute log-volume\n",
    "my_log_volumes1 = dict()\n",
    "for p in tqdm(primes(200)):\n",
    "    if p >= 5 and p <= 50:\n",
    "        my_log_volumes1[p] = compute_log_volume(get_ramification_dataset1, e0, p)\n",
    "    elif p > 50:\n",
    "        my_log_volumes1[p] = compute_log_volume_fast(get_ramification_dataset1, e0, p)\n"
   ]
  },
  {
   "cell_type": "code",
   "execution_count": 4,
   "metadata": {},
   "outputs": [
    {
     "data": {
      "application/vnd.jupyter.widget-view+json": {
       "model_id": "860bbab950fb4a50ad9d16c53db412c7",
       "version_major": 2,
       "version_minor": 0
      },
      "text/plain": [
       "  0%|          | 0/46 [00:00<?, ?it/s]"
      ]
     },
     "metadata": {},
     "output_type": "display_data"
    }
   ],
   "source": [
    "e0 = 3\n",
    "def get_ramification_dataset2(l):\n",
    "    ep_range = dict()\n",
    "    ep_range['general'] = {'good':[1], 'multi':[1,3,l,3*l]}\n",
    "    ep_range[2] = {'good':[2], 'multi':[2,6,2*l,6*l]}\n",
    "    ep_range[3] = {'good':[2,6,8], 'multi':[2,6,2*l,6*l]}\n",
    "    ep_range[l] = {'good':[], 'multi':[l-1,3*(l-1),l*(l-1),3*l*(l-1)]}\n",
    "    return ep_range\n",
    "\n",
    "# compute log-volume\n",
    "my_log_volumes2 = dict()\n",
    "for p in tqdm(primes(200)):\n",
    "    if p >= 5 and p <= 50:\n",
    "        my_log_volumes2[p] = compute_log_volume(get_ramification_dataset2, e0, p)\n",
    "    elif p > 50:\n",
    "        my_log_volumes2[p] = compute_log_volume_fast(get_ramification_dataset2, e0, p)"
   ]
  },
  {
   "cell_type": "code",
   "execution_count": 5,
   "metadata": {},
   "outputs": [
    {
     "data": {
      "application/vnd.jupyter.widget-view+json": {
       "model_id": "8d61b6912c0f4c37b167f8c0a05651d4",
       "version_major": 2,
       "version_minor": 0
      },
      "text/plain": [
       "  0%|          | 0/46 [00:00<?, ?it/s]"
      ]
     },
     "metadata": {},
     "output_type": "display_data"
    }
   ],
   "source": [
    "e0 = 1\n",
    "def get_ramification_dataset3(l):\n",
    "    ep_range = dict()\n",
    "    ep_range['general'] = {'good':[1], 'multi':[1,l]}\n",
    "    ep_range[2] = {'good':[2], 'multi':[2,2*l]}\n",
    "    ep_range[l] = {'good':[l-1,l*(l-1),l*l-1], 'multi':[l-1,l*(l-1)]}\n",
    "    return ep_range\n",
    "\n",
    "# compute log-volume\n",
    "my_log_volumes3 = dict()\n",
    "for p in tqdm(primes(200)):\n",
    "    if p >= 5 and p <= 50:\n",
    "        my_log_volumes3[p] = compute_log_volume(get_ramification_dataset3, e0, p)\n",
    "    elif p > 50:\n",
    "        my_log_volumes3[p] = compute_log_volume_fast(get_ramification_dataset3, e0, p)\n"
   ]
  },
  {
   "cell_type": "code",
   "execution_count": 6,
   "metadata": {},
   "outputs": [
    {
     "data": {
      "application/vnd.jupyter.widget-view+json": {
       "model_id": "9713251b3967416fbb488cf5f82e3959",
       "version_major": 2,
       "version_minor": 0
      },
      "text/plain": [
       "  0%|          | 0/46 [00:00<?, ?it/s]"
      ]
     },
     "metadata": {},
     "output_type": "display_data"
    }
   ],
   "source": [
    "e0 = 1\n",
    "def get_ramification_dataset4(l):\n",
    "    ep_range = dict()\n",
    "    ep_range['general'] = {'good':[1], 'multi':[1,l]}\n",
    "    ep_range[2] = {'good':[2], 'multi':[2,2*l]}\n",
    "    ep_range[l] = {'good':[], 'multi':[l-1,l*(l-1)]}\n",
    "    return ep_range\n",
    "\n",
    "# compute log-volume\n",
    "my_log_volumes4 = dict()\n",
    "for p in tqdm(primes(200)):\n",
    "    if p >= 5 and p <= 50:\n",
    "        my_log_volumes4[p] = compute_log_volume(get_ramification_dataset4, e0, p)\n",
    "    elif p > 50:\n",
    "        my_log_volumes4[p] = compute_log_volume_fast(get_ramification_dataset4, e0, p)"
   ]
  },
  {
   "cell_type": "markdown",
   "metadata": {},
   "source": [
    "### Part 2: upper bounds for $r_2$, $r_l$, $x_1$, $x_l$"
   ]
  },
  {
   "cell_type": "code",
   "execution_count": 21,
   "metadata": {},
   "outputs": [
    {
     "name": "stdout",
     "output_type": "stream",
     "text": [
      "11 4.0 70.69993660871518\n",
      "13 3.8117647058823536 73.79478075605738\n",
      "17 3.5918367346938775 79.14076728942395\n",
      "19 3.5217391304347827 83.21614791966726\n",
      "23 3.4222222222222225 91.05592769506158\n",
      "29 3.3286713286713288 101.3971507446698\n",
      "31 3.306122448979592 105.18380298173827\n",
      "37 3.253945480631277 115.62893108211716\n"
     ]
    }
   ],
   "source": [
    "my_primes = [11,13,17,19,23,29,31,37]\n",
    "a1_dict = dict()\n",
    "a2_dict = dict()\n",
    "for p in my_primes:\n",
    "    a1_dict[p] = 3*(p*p+5*p)/(p*p+p-12)*(1-1/p)\n",
    "    a2_dict[p] = max(3*my_log_volumes3[p]+ a1_dict[p]*log(2) , 3*my_log_volumes4[p] + a1_dict[p]*log(2*p))\n",
    "    print(p, a1_dict[p], a2_dict[p])"
   ]
  },
  {
   "cell_type": "code",
   "execution_count": 46,
   "metadata": {},
   "outputs": [
    {
     "name": "stdout",
     "output_type": "stream",
     "text": [
      "11 4.2666666666666675 131.28523392383883\n",
      "13 4.023529411764706 137.34703569022344\n",
      "17 3.7414965986394555 155.48847940816694\n",
      "19 3.652173913043478 163.917676856701\n",
      "23 3.525925925925926 181.54198264105023\n",
      "29 3.4079254079254078 209.57386002385223\n",
      "31 3.379591836734694 218.89589134822631\n",
      "37 3.3142037302725966 247.3515648511106\n"
     ]
    }
   ],
   "source": [
    "my_primes = [11,13,17,19,23,29,31,37]\n",
    "a1_dict = dict()\n",
    "a2_dict = dict()\n",
    "for p in my_primes:\n",
    "    a1_dict[p] = 3*(p*p+5*p)/(p*p+p-12)*(1-1/3/p)\n",
    "    a2_dict[p] = max(3*my_log_volumes1[p]+ a1_dict[p]*log(2) , 3*my_log_volumes2[p] + a1_dict[p]*log(2*p))\n",
    "    print(p, a1_dict[p], a2_dict[p])"
   ]
  },
  {
   "cell_type": "markdown",
   "metadata": {},
   "source": [
    "compute for possible $(r,s,t,r_2)$"
   ]
  },
  {
   "cell_type": "code",
   "execution_count": 77,
   "metadata": {},
   "outputs": [
    {
     "data": {
      "application/vnd.jupyter.widget-view+json": {
       "model_id": "3b18cf5682b445108ff53dfa3267bb7b",
       "version_major": 2,
       "version_minor": 0
      },
      "text/plain": [
       "  0%|          | 0/613 [00:00<?, ?it/s]"
      ]
     },
     "metadata": {},
     "output_type": "display_data"
    },
    {
     "name": "stdout",
     "output_type": "stream",
     "text": [
      "17 306\n",
      "19 304\n",
      "34 306\n",
      "38 304\n",
      "51 306\n",
      "101 303\n",
      "303 303\n",
      "323 304\n"
     ]
    }
   ],
   "source": [
    "max_r = 616\n",
    "r = 4\n",
    "r2_dict = dict()\n",
    "for r in trange(4,max_r+1):\n",
    "    r2_dict[r] = 0\n",
    "    for r2 in range(int(2442/r)+1):\n",
    "        possible_l = []\n",
    "        for l in [17,19,23,29,31,37]:\n",
    "            # can assume that s,t are divided by at most two prime numbers >= 17\n",
    "            if r%l != 0 and (r*r2-4) % l != 0:\n",
    "                possible_l.append(l)\n",
    "            if len(possible_l) == 3:\n",
    "                break\n",
    "        if r2*r > int(a2_dict[l] / log(2) + 4):\n",
    "            continue\n",
    "        else:\n",
    "            r2_dict[r] = r * r2\n",
    "    # since 2^r = (2^{r/r1})^r1\n",
    "    r2_dict[r] = min([r2_dict[r1] for r1 in divisors(r) if r1 >= 4])\n",
    "    if r2_dict[r] > 300:\n",
    "        print(r, r2_dict[r])\n",
    "\n",
    "# r * r2 <= 306; r > r * r2, hence r2 = 0 when r > 303. "
   ]
  },
  {
   "cell_type": "code",
   "execution_count": 62,
   "metadata": {},
   "outputs": [
    {
     "data": {
      "text/plain": [
       "[1, 13, 23, 299]"
      ]
     },
     "execution_count": 62,
     "metadata": {},
     "output_type": "execute_result"
    }
   ],
   "source": [
    "divisors(299)"
   ]
  },
  {
   "cell_type": "code",
   "execution_count": 92,
   "metadata": {},
   "outputs": [
    {
     "name": "stdout",
     "output_type": "stream",
     "text": [
      "11 131.28523392383883 1.30e+23 2.36e+07 \n",
      "13 137.34703569022344 1.58e+20 3.01e+07 \n",
      "17 155.48847940816694 1.59e+19 1.50e+08 \n",
      "19 163.917676856701 1.83e+19 3.37e+08 \n",
      "23 181.54198264105023 9.32e+19 2.01e+09 \n",
      "29 209.57386002385223 5.66e+21 3.92e+10 \n",
      "31 218.89589134822631 2.61e+22 1.07e+11 \n",
      "37 247.3515648511106 3.74e+24 2.33e+12 \n"
     ]
    }
   ],
   "source": [
    "for p in my_primes:\n",
    "    print(p, a2_dict[p],\n",
    "        #   f\"{exp(a2_dict[p]/(18/2-3/2*a1_dict[p])):.2e}\",\n",
    "        #   f\"{exp((a2_dict[p]-30*log(3))/(9-2*a1_dict[p])):.2e}\",\n",
    "          f\"{exp((a2_dict[p])/(11-2*a1_dict[p])):.2e}\",\n",
    "          f\"{exp(a2_dict[p]/(12-a1_dict[p])):.2e}\",\n",
    "          \"\")"
   ]
  },
  {
   "cell_type": "code",
   "execution_count": 110,
   "metadata": {},
   "outputs": [
    {
     "data": {
      "text/plain": [
       "(42.385771811811004, 39.55004239205195, 40.23594781085251)"
      ]
     },
     "execution_count": 110,
     "metadata": {},
     "output_type": "execute_result"
    }
   ],
   "source": [
    "(13-4)*log(111),36*log(3),25*log(5) # may be 2^* for t>40, 3^* 2^* for t > 23 ..."
   ]
  },
  {
   "cell_type": "markdown",
   "metadata": {},
   "source": [
    "当前新算法下，$(4,5,n)$情形的计算量为 2e+18 * C_0 ~= 1e+21 loops;  (5,6,7) 5e+9 * C_0 3e+12; \n",
    "\n",
    "其余 < 1e+9 * C_0; >= (7,7,7),or (4,9,9) 5e+6 * C_0; \n",
    "\n",
    "1 loop = 判断一次大正整数n是不是k次方"
   ]
  },
  {
   "cell_type": "markdown",
   "metadata": {},
   "source": [
    "(4,5,n)情形，似乎可以证明形如$z\\neq 2^n$, $n\\ge 20$时, 得到$x$ or $y$ 的合适稍小上界并搜索之，以验证此时无解！"
   ]
  },
  {
   "cell_type": "code",
   "execution_count": 46,
   "metadata": {},
   "outputs": [
    {
     "data": {
      "text/plain": [
       "46.50699332842308"
      ]
     },
     "execution_count": 46,
     "metadata": {},
     "output_type": "execute_result"
    }
   ],
   "source": [
    "10*log(10)/log(2) * 1.4 # 可由此证明 r <= 200!"
   ]
  },
  {
   "cell_type": "code",
   "execution_count": 113,
   "metadata": {},
   "outputs": [
    {
     "data": {
      "text/plain": [
       "1728"
      ]
     },
     "execution_count": 113,
     "metadata": {},
     "output_type": "execute_result"
    }
   ],
   "source": [
    "# 0, 2**6 * 3**3, 2**2 * 73**3 / 3**4, 2**14 * 31**3 / 5**3\n",
    "# 2**6 * 3**3"
   ]
  },
  {
   "cell_type": "code",
   "execution_count": 12,
   "metadata": {},
   "outputs": [
    {
     "name": "stdout",
     "output_type": "stream",
     "text": [
      "11 4.0 70.172 14.034 126.31 1.24e+06\n",
      "13 3.812 73.599 14.186 127.671 1.45e+06\n",
      "17 3.592 79.141 14.634 131.702 2.27e+06\n",
      "19 3.522 83.216 15.19 136.712 3.95e+06\n",
      "23 3.422 91.056 16.325 146.923 1.23e+07\n",
      "29 3.329 101.397 17.879 160.91 5.82e+07\n",
      "31 3.306 105.184 18.473 166.258 1.05e+08\n",
      "37 3.254 115.597 20.118 181.059 5.46e+08\n",
      "41 3.228 121.594 21.066 189.598 1.41e+09\n",
      "43 3.217 125.019 21.619 194.567 2.45e+09\n",
      "47 3.198 132.213 22.787 205.082 7.87e+09\n",
      "53 3.175 142.615 24.482 220.34 4.29e+10\n",
      "59 3.156 152.144 26.036 234.327 2.03e+11\n"
     ]
    }
   ],
   "source": [
    "e0 = 1\n",
    "def get_ramification_dataset2(l):\n",
    "    ep_range = dict()\n",
    "    ep_range['general'] = {'good':[1], 'multi':[1,l]}\n",
    "    ep_range[2] = {'good':[2], 'multi':[2,2*l]}\n",
    "\n",
    "    # ep_range[11] = {'good':[1], 'multi':[]}\n",
    "    # ep_range[13] = {'good':[1], 'multi':[]}\n",
    "    # ep_range[17] = {'good':[1], 'multi':[]}\n",
    "    # ep_range[19] = {'good':[1], 'multi':[]}\n",
    "\n",
    "\n",
    "\n",
    "    # for p in (11,13,17,19):\n",
    "    #     ep_range[p] = {'good':[1], 'multi':[]}\n",
    "\n",
    "    ep_range[l] = {'good':[l-1,l*(l-1),l*l-1], 'multi':[l-1,l*(l-1)]} # good存在与否有10%数值的影响！\n",
    "    # ep_range[l] = {'good' :[], 'multi':[l-1,l*(l-1)]} # good存在与否有10%数值的影响！\n",
    "    return ep_range\n",
    "\n",
    "u0 =  9 # min(s,t)\n",
    "for l in primes(60):\n",
    "    if l<11 or (l==11 and u0==4):\n",
    "        continue\n",
    "    a1 = 3*(l+5)*(l-1)/(l*l+l-12)\n",
    "    a2 = 3*compute_log_volume(get_ramification_dataset2, e0, l) + a1 * log(2)\n",
    "    # if a1 > 3.9: # if l=11, a1=4, this is still ok!\n",
    "    #     print(l, a1)\n",
    "    b1 = (a2+log(2*l))/(u0-a1)                  \n",
    "\n",
    "    print(l, round(a1,3), round(a2,3), round(a2/(u0-a1),3), round(a2/(u0-a1)*u0,3), f'{exp(a2/(u0-a1)):.2e}')"
   ]
  },
  {
   "cell_type": "code",
   "execution_count": 13,
   "metadata": {},
   "outputs": [
    {
     "name": "stdout",
     "output_type": "stream",
     "text": [
      "2 0.6931471805599453\n",
      "3 1.791759469228055\n",
      "5 3.401197381662155\n",
      "7 5.3471075307174685\n",
      "11 7.745002803515839\n",
      "13 10.309952160977376\n",
      "17 13.143165505033593\n",
      "19 16.087604484200035\n",
      "23 19.223098700129185\n",
      "29 22.59039453011566\n",
      "31 26.024381734600805\n",
      "37 29.63529964724503\n",
      "41 33.348871713949336\n",
      "43 37.1100718296429\n",
      "47 40.960219431352954\n",
      "53 44.93051134490508\n",
      "59 49.0080487888108\n",
      "61 53.11892265298411\n",
      "67 57.32361527237508\n",
      "71 61.586295149416394\n",
      "73 65.87675459056479\n",
      "79 70.2462024430318\n",
      "83 74.6650430508284\n",
      "89 79.15367942056054\n",
      "97 83.72839039906393\n"
     ]
    }
   ],
   "source": [
    "sum = 0\n",
    "for p in primes(100):\n",
    "    sum += log(p)\n",
    "    print(p, sum)"
   ]
  }
 ],
 "metadata": {
  "kernelspec": {
   "display_name": "base",
   "language": "python",
   "name": "python3"
  },
  "language_info": {
   "codemirror_mode": {
    "name": "ipython",
    "version": 3
   },
   "file_extension": ".py",
   "mimetype": "text/x-python",
   "name": "python",
   "nbconvert_exporter": "python",
   "pygments_lexer": "ipython3",
   "version": "3.8.8"
  }
 },
 "nbformat": 4,
 "nbformat_minor": 2
}
