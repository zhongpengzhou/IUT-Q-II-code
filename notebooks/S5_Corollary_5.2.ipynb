{
 "cells": [
  {
   "cell_type": "code",
   "execution_count": 3,
   "metadata": {},
   "outputs": [],
   "source": [
    "import sys\n",
    "import os\n",
    "\n",
    "parent_dir = os.path.abspath(os.path.join(os.getcwd(), '..'))\n",
    "sys.path.append(parent_dir)\n",
    "\n",
    "from python_utils import *\n",
    "from tqdm.notebook import tqdm, trange"
   ]
  },
  {
   "cell_type": "markdown",
   "metadata": {},
   "source": [
    "### compute the number of unsolved signatures up to permutation"
   ]
  },
  {
   "cell_type": "code",
   "execution_count": 30,
   "metadata": {},
   "outputs": [
    {
     "name": "stdout",
     "output_type": "stream",
     "text": [
      "[80, 84, 80]\n",
      "244\n"
     ]
    }
   ],
   "source": [
    "S = [n for n in range(7, 303+1)]\n",
    "S_4_5_n = [n for n in S if gcd(2*3*5, n) == 1]\n",
    "S_4_7_n = [n for n in S if gcd(2*3*7, n) == 1]\n",
    "S_5_6_n = [n for n in S if gcd(2*3*5, n) == 1]\n",
    "\n",
    "S_len = [len(S_4_5_n), len(S_4_7_n), len(S_5_6_n)]\n",
    "\n",
    "print(S_len)\n",
    "print(sum(S_len))"
   ]
  },
  {
   "cell_type": "code",
   "execution_count": 31,
   "metadata": {},
   "outputs": [
    {
     "name": "stdout",
     "output_type": "stream",
     "text": [
      "[51, 34, 34, 1469, 189, 398, 27]\n",
      "2202\n",
      "2446\n"
     ]
    }
   ],
   "source": [
    "T_2_3_n = [n for n in range(11, 109+1)] + [113, 121]\n",
    "T_2_3_n = [n for n in T_2_3_n if len([t for t in (6,7,8,9,10,15) if n%t==0]) == 0]\n",
    "T_3_4_n = [n for n in T_2_3_n if gcd(5, n) == 1] # by (3,4,5), (3,4,4)\n",
    "T_3_8_n = [n for n in T_2_3_n if gcd(2*5, n) == 1] # by (3,4,5), (3,8,2)\n",
    "T_3_10_n = [n for n in T_2_3_n if gcd(2*5, n) == 1] # by (3,5,5), (3,8,2)\n",
    "T_3_5_n = [n for n in range(5, 3677+1) if n%4!=0 and gcd(3*5, n) == 1] \n",
    "T_3_7_n = [n for n in range(11, 667+1) if gcd(2*3*7, n) == 1] \n",
    "T_3_11_n = [n for n in range(11, 667+1) if gcd(3*11, n) == 1]\n",
    "\n",
    "T_3_external = []\n",
    "T_3_external += [(3,13,n) for n in (14,16,17,19,20,22,23,25,28,29)]\n",
    "T_3_external += [(3,14,n) for n in (17,19,23,25,29)]\n",
    "T_3_external += [(3,16,n) for n in (17,19,23,29)]\n",
    "T_3_external += [(3,17,n) for n in (19,20,22,23,25,26,28,29)]\n",
    "\n",
    "T_len = [len(T_3_4_n), len(T_3_8_n), len(T_3_10_n), len(T_3_5_n), len(T_3_7_n), len(T_3_11_n), len(T_3_external)]\n",
    "\n",
    "print(T_len)\n",
    "print(sum(T_len))\n",
    "print(sum(S_len) + sum(T_len))"
   ]
  }
 ],
 "metadata": {
  "kernelspec": {
   "display_name": "base",
   "language": "python",
   "name": "python3"
  },
  "language_info": {
   "codemirror_mode": {
    "name": "ipython",
    "version": 3
   },
   "file_extension": ".py",
   "mimetype": "text/x-python",
   "name": "python",
   "nbconvert_exporter": "python",
   "pygments_lexer": "ipython3",
   "version": "3.8.8"
  }
 },
 "nbformat": 4,
 "nbformat_minor": 2
}
