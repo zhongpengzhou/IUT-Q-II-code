{
 "cells": [
  {
   "cell_type": "code",
   "execution_count": 2,
   "metadata": {},
   "outputs": [],
   "source": [
    "import sys\n",
    "import os\n",
    "\n",
    "parent_dir = os.path.abspath(os.path.join(os.getcwd(), '..'))\n",
    "sys.path.append(parent_dir)\n",
    "\n",
    "from python_utils import *\n",
    "from tqdm.notebook import tqdm, trange"
   ]
  },
  {
   "cell_type": "markdown",
   "metadata": {},
   "source": [
    "### Part 1: compute log-volumes"
   ]
  },
  {
   "cell_type": "code",
   "execution_count": null,
   "metadata": {},
   "outputs": [
    {
     "ename": "NameError",
     "evalue": "name 'tqdm' is not defined",
     "output_type": "error",
     "traceback": [
      "\u001b[0;31m---------------------------------------------------------------------------\u001b[0m",
      "\u001b[0;31mNameError\u001b[0m                                 Traceback (most recent call last)",
      "Cell \u001b[0;32mIn [1], line 17\u001b[0m\n\u001b[1;32m     15\u001b[0m \u001b[38;5;66;03m# compute log-volume\u001b[39;00m\n\u001b[1;32m     16\u001b[0m my_log_volumes1 \u001b[38;5;241m=\u001b[39m \u001b[38;5;28mdict\u001b[39m()\n\u001b[0;32m---> 17\u001b[0m \u001b[38;5;28;01mfor\u001b[39;00m p \u001b[38;5;129;01min\u001b[39;00m \u001b[43mtqdm\u001b[49m(primes(\u001b[38;5;241m150\u001b[39m)):\n\u001b[1;32m     18\u001b[0m     \u001b[38;5;28;01mif\u001b[39;00m p \u001b[38;5;241m>\u001b[39m\u001b[38;5;241m=\u001b[39m \u001b[38;5;241m5\u001b[39m \u001b[38;5;129;01mand\u001b[39;00m p \u001b[38;5;241m<\u001b[39m\u001b[38;5;241m=\u001b[39m \u001b[38;5;241m30\u001b[39m:\n\u001b[1;32m     19\u001b[0m         my_log_volumes1[p] \u001b[38;5;241m=\u001b[39m compute_log_volume(get_ramification_dataset1, e0, p)\n",
      "\u001b[0;31mNameError\u001b[0m: name 'tqdm' is not defined"
     ]
    }
   ],
   "source": [
    "e0 = 12\n",
    "def get_ramification_dataset1(l):\n",
    "    ep_range = dict()\n",
    "    ep_range['general'] = {'good':[1], 'multi':divisors(12*l)}\n",
    "    ep_range[2] = {'good':[e for e in divisors(pow(2,8) * pow(3,2)) if e%2 == 0], 'multi':[e for e in divisors(24*l) if e%2 == 0]}\n",
    "    ep_range[3] = {'good':[e for e in divisors(pow(2,6) * pow(3,2)) if e%2 == 0], 'multi':[e for e in divisors(48*l) if e%2 == 0]}\n",
    "    ep_range[l] = {'good':[l-1,l*(l-1),l*l-1], 'multi':[(l-1)*e for e in divisors(12*l)]}\n",
    "    return ep_range\n",
    "\n",
    "# compute log-volume\n",
    "my_log_volumes1 = dict()\n",
    "for p in tqdm(primes(150)):\n",
    "    if p >= 5 and p <= 30:\n",
    "        my_log_volumes1[p] = compute_log_volume(get_ramification_dataset1, e0, p)\n",
    "        print(p, my_log_volumes1[p])\n",
    "    elif p > 30:\n",
    "        my_log_volumes1[p] = compute_log_volume_fast(get_ramification_dataset1, e0, p)"
   ]
  },
  {
   "cell_type": "code",
   "execution_count": 9,
   "metadata": {},
   "outputs": [
    {
     "data": {
      "application/vnd.jupyter.widget-view+json": {
       "model_id": "176a5175ada54c85843198f9bb0b1d3d",
       "version_major": 2,
       "version_minor": 0
      },
      "text/plain": [
       "  0%|          | 0/35 [00:00<?, ?it/s]"
      ]
     },
     "metadata": {},
     "output_type": "display_data"
    },
    {
     "name": "stdout",
     "output_type": "stream",
     "text": [
      "5 59.17843935222741\n",
      "7 50.356443373450205\n",
      "11 51.87927802801745\n",
      "13 54.9948057061493\n",
      "17 61.945242964890056\n",
      "19 65.7568310535161\n",
      "23 73.48046840034378\n",
      "29 85.47170755570102\n"
     ]
    }
   ],
   "source": [
    "e0 = 4\n",
    "def get_ramification_dataset2(l):\n",
    "    ep_range = dict()\n",
    "    ep_range['general'] = {'good':[1], 'multi':divisors(4*l)}\n",
    "    ep_range[2] = {'good':[e for e in divisors(96) if e%2 == 0], 'multi':[e for e in divisors(8*l) if e%2 == 0]}\n",
    "    ep_range[3] = {'good':[e for e in divisors(12) if e%2 == 0], 'multi':[2*e for e in divisors(8*l)]}\n",
    "    ep_range[l] = {'good':[l-1,l*(l-1),l*l-1], 'multi':[(l-1)*e for e in divisors(4*l)]}\n",
    "\n",
    "    return ep_range\n",
    "\n",
    "# compute log-volume\n",
    "my_log_volumes2 = dict()\n",
    "for p in tqdm(primes(150)):\n",
    "    if p >= 5 and p <= 30:\n",
    "        my_log_volumes2[p] = compute_log_volume(get_ramification_dataset2, e0, p)\n",
    "        print(p, my_log_volumes2[p])\n",
    "    elif p > 30:\n",
    "        my_log_volumes2[p] = compute_log_volume_fast(get_ramification_dataset2, e0, p)"
   ]
  },
  {
   "cell_type": "code",
   "execution_count": 9,
   "metadata": {},
   "outputs": [
    {
     "data": {
      "application/vnd.jupyter.widget-view+json": {
       "model_id": "b002390c6fd74d86b0ce3b6c74c616b4",
       "version_major": 2,
       "version_minor": 0
      },
      "text/plain": [
       "  0%|          | 0/35 [00:00<?, ?it/s]"
      ]
     },
     "metadata": {},
     "output_type": "display_data"
    },
    {
     "name": "stdout",
     "output_type": "stream",
     "text": [
      "5 59.17843935222741\n",
      "7 50.356443373450205\n",
      "11 51.519593737097686\n",
      "13 54.466099233201966\n",
      "17 61.266151118499025\n",
      "19 65.0109420729845\n",
      "23 72.71375032818264\n",
      "29 84.62504794610089\n"
     ]
    }
   ],
   "source": [
    "e0 = 4\n",
    "def get_ramification_dataset3(l):\n",
    "    ep_range = dict()\n",
    "    ep_range['general'] = {'good':[1], 'multi':divisors(4*l)}\n",
    "    ep_range[2] = {'good':[e for e in divisors(96) if e%2 == 0], 'multi':[e for e in divisors(8*l) if e%2 == 0]}\n",
    "    ep_range[3] = {'good':[e for e in divisors(12) if e%2 == 0], 'multi':[2*e for e in divisors(8*l)]}\n",
    "    ep_range[l] = {'good':[], 'multi':[(l-1)*e for e in divisors(4*l)]}\n",
    "    return ep_range\n",
    "\n",
    "# compute log-volume\n",
    "my_log_volumes3 = dict()\n",
    "for p in tqdm(primes(150)):\n",
    "    if p >= 5 and p <= 30:\n",
    "        my_log_volumes3[p] = compute_log_volume(get_ramification_dataset3, e0, p)\n",
    "        print(p, my_log_volumes3[p])\n",
    "    elif p > 30:\n",
    "        my_log_volumes3[p] = compute_log_volume_fast(get_ramification_dataset3, e0, p)"
   ]
  },
  {
   "cell_type": "markdown",
   "metadata": {},
   "source": [
    "### Part 2: upper bounds for $r_3$, $s_3$, $r_l$, $s_l$ "
   ]
  },
  {
   "cell_type": "code",
   "execution_count": 169,
   "metadata": {},
   "outputs": [
    {
     "name": "stdout",
     "output_type": "stream",
     "text": [
      "11 8.600000000000001 345.14859320401337\n",
      "17 7.520408163265307 402.3785900108973\n",
      "19 7.33695652173913 424.8149345321058\n",
      "23 7.0777777777777775 471.15650860737514\n",
      "29 6.835664335664336 543.0158579911662\n",
      "31 6.777551020408164 577.3752837869084\n",
      "37 6.643472022955523 648.8286584098873\n",
      "41 6.577192982456141 697.3895048776211\n"
     ]
    }
   ],
   "source": [
    "my_primes = [11,17,19,23,29,31,37,41]\n",
    "a1_dict = dict()\n",
    "a2_dict = dict()\n",
    "for p in my_primes:\n",
    "    a1_dict[p] = 6*(p*p+5*p)/(p*p+p-12)*(1-1/4/p)\n",
    "    a2_dict[p] = max(6*my_log_volumes2[p]+ a1_dict[p]*log(2*3) , 6*my_log_volumes3[p] + a1_dict[p]*log(2*3*p))\n",
    "    print(p, a1_dict[p], a2_dict[p])"
   ]
  },
  {
   "cell_type": "markdown",
   "metadata": {},
   "source": [
    "A computation in the proof of upper bounds for $r_l$, $s_l$.\n"
   ]
  },
  {
   "cell_type": "code",
   "execution_count": 170,
   "metadata": {},
   "outputs": [
    {
     "name": "stdout",
     "output_type": "stream",
     "text": [
      "11 50.512714406861356 53.03835012720442\n",
      "17 49.87399581880474 52.36769560974498\n",
      "19 50.625679338566705 53.15696330549504\n",
      "23 52.62182296853172 55.2529141169583\n",
      "29 56.287234129683156 59.10159583616731\n",
      "31 58.57851244104773 61.50743806310011\n",
      "37 62.42841394777644 65.54983464516526\n",
      "41 65.13159832374322 68.38817823993038\n"
     ]
    }
   ],
   "source": [
    "# upper bounds for r_l, s_l\n",
    "for p in my_primes:\n",
    "    print(p, (a2_dict[p] / log(p) + 7.6) / 3, (a2_dict[p] / log(p) + 7.6) / (20 / 7)) "
   ]
  },
  {
   "cell_type": "markdown",
   "metadata": {},
   "source": [
    "About the proof of upper bounds for $r_3$, $s_3$."
   ]
  },
  {
   "cell_type": "markdown",
   "metadata": {},
   "source": [
    "Suppose that $3 \\mid x$. \n",
    "\n",
    "Let $q\\ge 17$ be the smallest prime number, such that $q\\nmid rs$, $q\\nmid (3r_3r-3)$.\n",
    "\n",
    "Then we have $ (3r_3r-3-a_1(l))\\cdot \\log(3) \\le a_2(q)$.\n",
    "\n",
    "Hence $r_3r \\le \\frac{a_2(q)/\\log(3)+3+a_1(l)}{3}$."
   ]
  },
  {
   "cell_type": "markdown",
   "metadata": {},
   "source": [
    "As a vary rough upper bound, we have $r_3 r < 1000$.\n",
    "\n",
    "Then we can search for all possible $(r_3, r)$.\n",
    "\n",
    "Note that by replacing $s$ by its prime divisors $\\ge 11$, we can assume that $s$ excludes at most one possibel $p\\ge 17$."
   ]
  },
  {
   "cell_type": "code",
   "execution_count": 171,
   "metadata": {},
   "outputs": [
    {
     "data": {
      "application/vnd.jupyter.widget-view+json": {
       "model_id": "95803f91f42040ff8836dc86d12c8d4f",
       "version_major": 2,
       "version_minor": 0
      },
      "text/plain": [
       "  0%|          | 0/1294 [00:00<?, ?it/s]"
      ]
     },
     "metadata": {},
     "output_type": "display_data"
    },
    {
     "name": "stdout",
     "output_type": "stream",
     "text": [
      "17 153\n",
      "34 136\n",
      "51 153\n",
      "67 134\n",
      "68 136\n",
      "134 134\n",
      "137 137\n"
     ]
    }
   ],
   "source": [
    "max_r = 1300 # 7 <= r,s <= 1226\n",
    "\n",
    "r3_dict = dict()\n",
    "for r in trange(7,max_r+1):\n",
    "    r3_dict[r] = 0\n",
    "    for r3 in range(1, 1000 // r + 1):\n",
    "        possible_q = []\n",
    "        for q in [17,19,23,29,31,37,39,41]:\n",
    "            if r%q != 0 and (r*r3-1) % q != 0:\n",
    "                possible_q.append(q) # one possible q for the case s%q == 0\n",
    "            if len(possible_q) == 2:\n",
    "                break\n",
    "        if (len(possible_q) < 2):\n",
    "            print(f'Error for r={r}, r3={r3}!')\n",
    "        if r3*r > int((a2_dict[q] / log(3) + 3 + a1_dict[q])/3):\n",
    "            # beyond the bound\n",
    "            continue\n",
    "        else:\n",
    "            # maximal possible r * r3\n",
    "            r3_dict[r] = r * r3 \n",
    "    # since 3^r = (3^{r/r1})^r1\n",
    "    r3_dict[r] = min([r3_dict[r1] for r1 in divisors(r) if r1 >= 7])\n",
    "    if r3_dict[r] > 133:\n",
    "        print(r, r3_dict[r])\n",
    "\n"
   ]
  },
  {
   "cell_type": "markdown",
   "metadata": {},
   "source": [
    "Hence we have $r \\cdot r_3 \\le 153$; since $r > r \\cdot r_3$, we have $r_3 = 0$ when $r > 137$. "
   ]
  },
  {
   "cell_type": "markdown",
   "metadata": {},
   "source": [
    "If $r\\ge 8$, then we have $s\\cdot s_3 \\le 153$; $s_3 = 0$ when $s > 137$ by symmetry.\n",
    "\n",
    "If $r = 7$, then $l\\nmid r$, we can compute similarly."
   ]
  },
  {
   "cell_type": "code",
   "execution_count": 172,
   "metadata": {},
   "outputs": [
    {
     "data": {
      "application/vnd.jupyter.widget-view+json": {
       "model_id": "674616eb3926494588c0b59fc8390a08",
       "version_major": 2,
       "version_minor": 0
      },
      "text/plain": [
       "  0%|          | 0/1290 [00:00<?, ?it/s]"
      ]
     },
     "metadata": {},
     "output_type": "display_data"
    },
    {
     "name": "stdout",
     "output_type": "stream",
     "text": [
      "17 153\n",
      "131 131\n",
      "137 137\n"
     ]
    }
   ],
   "source": [
    "max_r = 1300 # r = 7,  11 <= s <= 1226\n",
    "\n",
    "s3_dict = dict()\n",
    "for s in trange(11,max_r+1):\n",
    "    s3_dict[s] = 0\n",
    "    for s3 in range(1, 1000 // s + 1):\n",
    "        for q in [17,19,23,29,31,37,39,41]:\n",
    "            if s%q != 0 and (s*s3-1) % q != 0 and (s*s3-3) % q != 0:\n",
    "                # the conditions based on assersion (iii) are different!\n",
    "                break\n",
    "                \n",
    "        if not(s%q != 0 and (s*s3-1) % q != 0 and (s*s3-3) % q != 0):\n",
    "            print(f'Error for s={s}, s3={s3}!')\n",
    "        if s3*s > int((a2_dict[q] / log(3) + 3 + a1_dict[q]) / (20 / 7)):\n",
    "            # beyond the bound\n",
    "            continue\n",
    "        else:\n",
    "            # maximal possible s * s3\n",
    "            s3_dict[s] = s * s3 \n",
    "    # since 3^s = (3^{s/s1})^s1\n",
    "    if s%2 == 0 or s%3 == 0 or s%7 == 0:\n",
    "        # proved signatures; (2,3,7), (3,3,7), (3,7,7)\n",
    "        s3_dict[s] = 0\n",
    "    s3_dict[s] = min([s3_dict[s1] for s1 in divisors(s) if s1 >= 11])\n",
    "    if s3_dict[s] > 130:\n",
    "        print(s, s3_dict[s])\n",
    "\n"
   ]
  },
  {
   "cell_type": "markdown",
   "metadata": {},
   "source": [
    "Hence we have $s \\cdot s_3 \\le 153$; $s_3 = 0$ when $s > 137$. "
   ]
  },
  {
   "cell_type": "markdown",
   "metadata": {},
   "source": [
    "### Part 3: upper bounds for $r_2$, $s_2$"
   ]
  },
  {
   "cell_type": "code",
   "execution_count": 181,
   "metadata": {},
   "outputs": [
    {
     "name": "stdout",
     "output_type": "stream",
     "text": [
      "11 8.733333333333334 796.5615288095332\n",
      "17 7.595238095238096 977.1608010046082\n",
      "19 7.4021739130434785 1040.7370146010778\n",
      "23 7.12962962962963 1177.0895285582615\n",
      "29 6.875291375291375 1388.1992527100615\n",
      "31 6.814285714285715 1474.5661407635166\n",
      "37 6.673601147776184 1687.100875332116\n",
      "41 6.604093567251462 1832.0968204893907\n"
     ]
    }
   ],
   "source": [
    "my_primes = [11,17,19,23,29,31,37,41]\n",
    "a1_dict = dict()\n",
    "a2_dict = dict()\n",
    "for p in my_primes:\n",
    "    a1_dict[p] = 6*(p*p+5*p)/(p*p+p-12)*(1-1/12/p)\n",
    "    a2_dict[p] = 6*my_log_volumes1[p] + a1_dict[p]*log(2*3*p)\n",
    "    print(p, a1_dict[p], a2_dict[p])"
   ]
  },
  {
   "cell_type": "code",
   "execution_count": 199,
   "metadata": {},
   "outputs": [
    {
     "data": {
      "text/plain": [
       "('2.55e+06', 1.1614173228346458, 1.3862943611198906)"
      ]
     },
     "execution_count": 199,
     "metadata": {},
     "output_type": "execute_result"
    }
   ],
   "source": [
    "f\"{exp(472 / (3 * 13 -7)):.2e}\", 472/(3*138-7.6),log(4)"
   ]
  }
 ],
 "metadata": {
  "kernelspec": {
   "display_name": "base",
   "language": "python",
   "name": "python3"
  },
  "language_info": {
   "codemirror_mode": {
    "name": "ipython",
    "version": 3
   },
   "file_extension": ".py",
   "mimetype": "text/x-python",
   "name": "python",
   "nbconvert_exporter": "python",
   "pygments_lexer": "ipython3",
   "version": "3.8.8"
  }
 },
 "nbformat": 4,
 "nbformat_minor": 2
}
